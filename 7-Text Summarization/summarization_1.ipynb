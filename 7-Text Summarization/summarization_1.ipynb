{
 "cells": [
  {
   "cell_type": "code",
   "execution_count": 1,
   "id": "90644afb",
   "metadata": {},
   "outputs": [
    {
     "data": {
      "text/plain": [
       "True"
      ]
     },
     "execution_count": 1,
     "metadata": {},
     "output_type": "execute_result"
    }
   ],
   "source": [
    "import os\n",
    "from dotenv import load_dotenv\n",
    "load_dotenv()"
   ]
  },
  {
   "cell_type": "code",
   "execution_count": 2,
   "id": "efaa44fa",
   "metadata": {},
   "outputs": [
    {
     "data": {
      "text/plain": [
       "ChatGroq(client=<groq.resources.chat.completions.Completions object at 0x000001D6683AB310>, async_client=<groq.resources.chat.completions.AsyncCompletions object at 0x000001D6683B2050>, model_name='meta-llama/llama-4-scout-17b-16e-instruct', model_kwargs={}, groq_api_key=SecretStr('**********'))"
      ]
     },
     "execution_count": 2,
     "metadata": {},
     "output_type": "execute_result"
    }
   ],
   "source": [
    "from langchain_groq import ChatGroq\n",
    "api_key = os.getenv(\"GROQ_API_KEY\")\n",
    "llm = ChatGroq(groq_api_key=api_key,model_name = \"meta-llama/llama-4-scout-17b-16e-instruct\")\n",
    "llm"
   ]
  },
  {
   "cell_type": "code",
   "execution_count": 4,
   "id": "b53449ad",
   "metadata": {},
   "outputs": [],
   "source": [
    "from langchain.schema import (\n",
    "    AIMessage,\n",
    "    HumanMessage,\n",
    "    SystemMessage,\n",
    ")"
   ]
  },
  {
   "cell_type": "code",
   "execution_count": 5,
   "id": "0bfdf768",
   "metadata": {},
   "outputs": [],
   "source": [
    "speech=\"\"\"\n",
    "People across the country, involved in government, political, and social activities, are dedicating their time to make the ‘Viksit Bharat Sankalp Yatra’ (Developed India Resolution Journey) successful. Therefore, as a Member of Parliament, it was my responsibility to also contribute my time to this program. So, today, I have come here just as a Member of Parliament and your ‘sevak’, ready to participate in this program, much like you.\n",
    "\n",
    "In our country, governments have come and gone, numerous schemes have been formulated, discussions have taken place, and big promises have been made. However, my experience and observations led me to believe that the most critical aspect that requires attention is ensuring that the government’s plans reach the intended beneficiaries without any hassles. If there is a ‘Pradhan Mantri Awas Yojana’ (Prime Minister’s housing scheme), then those who are living in jhuggis and slums should get their houses. And he should not need to make rounds of the government offices for this purpose. The government should reach him. Since you have assigned this responsibility to me, about four crore families have got their ‘pucca’ houses. However, I have encountered cases where someone is left out of the government benefits. Therefore, I have decided to tour the country again, to listen to people’s experiences with government schemes, to understand whether they received the intended benefits, and to ensure that the programs are reaching everyone as planned without paying any bribes. We will get the real picture if we visit them again. Therefore, this ‘Viksit Bharat Sankalp Yatra’ is, in a way, my own examination. I want to hear from you and the people across the country whether what I envisioned and the work I have been doing aligns with reality and whether it has reached those for whom it was meant.\n",
    "\n",
    "It is crucial to check whether the work that was supposed to happen has indeed taken place. I recently met some individuals who utilized the Ayushman card to get treatment for serious illnesses. One person met with a severe accident, and after using the card, he could afford the necessary operation, and now he is recovering well. When I asked him, he said: “How could I afford this treatment? Now that there is the Ayushman card, I mustered courage and underwent an operation. Now I am perfectly fine.”  Such stories are blessings to me.\n",
    "\n",
    "The bureaucrats, who prepare good schemes, expedite the paperwork and even allocate funds, also feel satisfied that 50 or 100 people who were supposed to get the funds have got it. The funds meant for a thousand villages have been released. But their job satisfaction peaks when they hear that their work has directly impacted someone’s life positively. When they see the tangible results of their efforts, their enthusiasm multiplies. They feel satisfied. Therefore, ‘Viksit Bharat Sankalp Yatra’ has had a positive impact on government officers. It has made them more enthusiastic about their work, especially when they witness the tangible benefits reaching the people. Officers now feel satisfied with their work, saying, “I made a good plan, I created a file, and the intended beneficiaries received the benefits.” When they find that the money has reached a poor widow under the Jeevan Jyoti scheme and it was a great help to her during her crisis, they realise that they have done a good job. When a government officer listens to such stories, he feels very satisfied.\n",
    "\n",
    "There are very few who understand the power and impact of the ‘Viksit Bharat Sankalp Yatra’. When I hear people connected to bureaucratic circles talking about it, expressing their satisfaction, it resonates with me. I’ve heard stories where someone suddenly received 2 lakh rupees after the death of her husband, and a sister mentioned how the arrival of gas in her home transformed her lives. The most significant aspect is when someone says that the line between rich and poor has vanished. While the slogan ‘Garibi Hatao’ (Remove Poverty) is one thing, but the real change happens when a person says, “As soon as the gas stove came to my house, the distinction between poverty and affluence disappeared.\n",
    "\"\"\""
   ]
  },
  {
   "cell_type": "code",
   "execution_count": 6,
   "id": "e4998d99",
   "metadata": {},
   "outputs": [
    {
     "data": {
      "text/plain": [
       "'\\nPeople across the country, involved in government, political, and social activities, are dedicating their time to make the ‘Viksit Bharat Sankalp Yatra’ (Developed India Resolution Journey) successful. Therefore, as a Member of Parliament, it was my responsibility to also contribute my time to this program. So, today, I have come here just as a Member of Parliament and your ‘sevak’, ready to participate in this program, much like you.\\n\\nIn our country, governments have come and gone, numerous schemes have been formulated, discussions have taken place, and big promises have been made. However, my experience and observations led me to believe that the most critical aspect that requires attention is ensuring that the government’s plans reach the intended beneficiaries without any hassles. If there is a ‘Pradhan Mantri Awas Yojana’ (Prime Minister’s housing scheme), then those who are living in jhuggis and slums should get their houses. And he should not need to make rounds of the government offices for this purpose. The government should reach him. Since you have assigned this responsibility to me, about four crore families have got their ‘pucca’ houses. However, I have encountered cases where someone is left out of the government benefits. Therefore, I have decided to tour the country again, to listen to people’s experiences with government schemes, to understand whether they received the intended benefits, and to ensure that the programs are reaching everyone as planned without paying any bribes. We will get the real picture if we visit them again. Therefore, this ‘Viksit Bharat Sankalp Yatra’ is, in a way, my own examination. I want to hear from you and the people across the country whether what I envisioned and the work I have been doing aligns with reality and whether it has reached those for whom it was meant.\\n\\nIt is crucial to check whether the work that was supposed to happen has indeed taken place. I recently met some individuals who utilized the Ayushman card to get treatment for serious illnesses. One person met with a severe accident, and after using the card, he could afford the necessary operation, and now he is recovering well. When I asked him, he said: “How could I afford this treatment? Now that there is the Ayushman card, I mustered courage and underwent an operation. Now I am perfectly fine.”  Such stories are blessings to me.\\n\\nThe bureaucrats, who prepare good schemes, expedite the paperwork and even allocate funds, also feel satisfied that 50 or 100 people who were supposed to get the funds have got it. The funds meant for a thousand villages have been released. But their job satisfaction peaks when they hear that their work has directly impacted someone’s life positively. When they see the tangible results of their efforts, their enthusiasm multiplies. They feel satisfied. Therefore, ‘Viksit Bharat Sankalp Yatra’ has had a positive impact on government officers. It has made them more enthusiastic about their work, especially when they witness the tangible benefits reaching the people. Officers now feel satisfied with their work, saying, “I made a good plan, I created a file, and the intended beneficiaries received the benefits.” When they find that the money has reached a poor widow under the Jeevan Jyoti scheme and it was a great help to her during her crisis, they realise that they have done a good job. When a government officer listens to such stories, he feels very satisfied.\\n\\nThere are very few who understand the power and impact of the ‘Viksit Bharat Sankalp Yatra’. When I hear people connected to bureaucratic circles talking about it, expressing their satisfaction, it resonates with me. I’ve heard stories where someone suddenly received 2 lakh rupees after the death of her husband, and a sister mentioned how the arrival of gas in her home transformed her lives. The most significant aspect is when someone says that the line between rich and poor has vanished. While the slogan ‘Garibi Hatao’ (Remove Poverty) is one thing, but the real change happens when a person says, “As soon as the gas stove came to my house, the distinction between poverty and affluence disappeared.\\n'"
      ]
     },
     "execution_count": 6,
     "metadata": {},
     "output_type": "execute_result"
    }
   ],
   "source": [
    "speech"
   ]
  },
  {
   "cell_type": "code",
   "execution_count": 12,
   "id": "a8126542",
   "metadata": {},
   "outputs": [],
   "source": [
    "chat_message = [\n",
    "    SystemMessage(content=\"You are a helpful assistant that summarizes the text.\"),\n",
    "    HumanMessage(content = f\"Please provide a short and concisse summary of the follow speech:\\n Text: {speech}\")\n",
    "]"
   ]
  },
  {
   "cell_type": "code",
   "execution_count": 13,
   "id": "64d532a1",
   "metadata": {},
   "outputs": [
    {
     "data": {
      "text/plain": [
       "909"
      ]
     },
     "execution_count": 13,
     "metadata": {},
     "output_type": "execute_result"
    }
   ],
   "source": [
    "llm.get_num_tokens(speech)"
   ]
  },
  {
   "cell_type": "code",
   "execution_count": 15,
   "id": "000d2171",
   "metadata": {},
   "outputs": [
    {
     "name": "stdout",
     "output_type": "stream",
     "text": [
      "Here is a short and concise summary of the speech:\n",
      "\n",
      "The speaker, a Member of Parliament, discusses the \"Viksit Bharat Sankalp Yatra\" (Developed India Resolution Journey), a program aimed at ensuring that government schemes reach their intended beneficiaries. The speaker emphasizes the importance of verifying that government plans are implemented effectively and that benefits reach those who need them most. Through this program, the speaker aims to listen to people's experiences, identify gaps in implementation, and ensure that government schemes have a tangible impact on people's lives. The speaker shares success stories of individuals who have benefited from government schemes, such as the Ayushman card and housing schemes, and highlights the positive impact on government officers who see the direct benefits of their work. The overall goal is to bridge the gap between government plans and their actual impact on people's lives.\n"
     ]
    }
   ],
   "source": [
    "summary = llm(chat_message).content\n",
    "print(summary)"
   ]
  },
  {
   "cell_type": "code",
   "execution_count": 16,
   "id": "f339d8ea",
   "metadata": {},
   "outputs": [
    {
     "data": {
      "text/plain": [
       "PromptTemplate(input_variables=['language', 'speech'], input_types={}, partial_variables={}, template='\\nwrite a summary of the following sppech :\\nspeech: {speech}\\nTranslate the preicese summary into {language}\\n')"
      ]
     },
     "execution_count": 16,
     "metadata": {},
     "output_type": "execute_result"
    }
   ],
   "source": [
    "from langchain.chains import LLMChain\n",
    "from langchain.prompts import PromptTemplate\n",
    "\n",
    "\n",
    "genric_Template = \"\"\"\n",
    "write a summary of the following sppech :\n",
    "speech: {speech}\n",
    "Translate the preicese summary into {language}\n",
    "\"\"\"\n",
    "\n",
    "prompt = PromptTemplate(\n",
    "    input_variables=[\"speech\", \"language\"],\n",
    "    template=genric_Template,\n",
    ")\n",
    "\n",
    "prompt"
   ]
  },
  {
   "cell_type": "code",
   "execution_count": 19,
   "id": "2045c224",
   "metadata": {},
   "outputs": [
    {
     "data": {
      "text/plain": [
       "'\\nwrite a summary of the following sppech :\\nspeech: \\nPeople across the country, involved in government, political, and social activities, are dedicating their time to make the ‘Viksit Bharat Sankalp Yatra’ (Developed India Resolution Journey) successful. Therefore, as a Member of Parliament, it was my responsibility to also contribute my time to this program. So, today, I have come here just as a Member of Parliament and your ‘sevak’, ready to participate in this program, much like you.\\n\\nIn our country, governments have come and gone, numerous schemes have been formulated, discussions have taken place, and big promises have been made. However, my experience and observations led me to believe that the most critical aspect that requires attention is ensuring that the government’s plans reach the intended beneficiaries without any hassles. If there is a ‘Pradhan Mantri Awas Yojana’ (Prime Minister’s housing scheme), then those who are living in jhuggis and slums should get their houses. And he should not need to make rounds of the government offices for this purpose. The government should reach him. Since you have assigned this responsibility to me, about four crore families have got their ‘pucca’ houses. However, I have encountered cases where someone is left out of the government benefits. Therefore, I have decided to tour the country again, to listen to people’s experiences with government schemes, to understand whether they received the intended benefits, and to ensure that the programs are reaching everyone as planned without paying any bribes. We will get the real picture if we visit them again. Therefore, this ‘Viksit Bharat Sankalp Yatra’ is, in a way, my own examination. I want to hear from you and the people across the country whether what I envisioned and the work I have been doing aligns with reality and whether it has reached those for whom it was meant.\\n\\nIt is crucial to check whether the work that was supposed to happen has indeed taken place. I recently met some individuals who utilized the Ayushman card to get treatment for serious illnesses. One person met with a severe accident, and after using the card, he could afford the necessary operation, and now he is recovering well. When I asked him, he said: “How could I afford this treatment? Now that there is the Ayushman card, I mustered courage and underwent an operation. Now I am perfectly fine.”  Such stories are blessings to me.\\n\\nThe bureaucrats, who prepare good schemes, expedite the paperwork and even allocate funds, also feel satisfied that 50 or 100 people who were supposed to get the funds have got it. The funds meant for a thousand villages have been released. But their job satisfaction peaks when they hear that their work has directly impacted someone’s life positively. When they see the tangible results of their efforts, their enthusiasm multiplies. They feel satisfied. Therefore, ‘Viksit Bharat Sankalp Yatra’ has had a positive impact on government officers. It has made them more enthusiastic about their work, especially when they witness the tangible benefits reaching the people. Officers now feel satisfied with their work, saying, “I made a good plan, I created a file, and the intended beneficiaries received the benefits.” When they find that the money has reached a poor widow under the Jeevan Jyoti scheme and it was a great help to her during her crisis, they realise that they have done a good job. When a government officer listens to such stories, he feels very satisfied.\\n\\nThere are very few who understand the power and impact of the ‘Viksit Bharat Sankalp Yatra’. When I hear people connected to bureaucratic circles talking about it, expressing their satisfaction, it resonates with me. I’ve heard stories where someone suddenly received 2 lakh rupees after the death of her husband, and a sister mentioned how the arrival of gas in her home transformed her lives. The most significant aspect is when someone says that the line between rich and poor has vanished. While the slogan ‘Garibi Hatao’ (Remove Poverty) is one thing, but the real change happens when a person says, “As soon as the gas stove came to my house, the distinction between poverty and affluence disappeared.\\n\\nTranslate the preicese summary into spanish\\n'"
      ]
     },
     "execution_count": 19,
     "metadata": {},
     "output_type": "execute_result"
    }
   ],
   "source": [
    "complete_prompt = prompt.format(speech=speech, language=\"spanish\")\n",
    "complete_prompt"
   ]
  },
  {
   "cell_type": "code",
   "execution_count": 20,
   "id": "d7302123",
   "metadata": {},
   "outputs": [
    {
     "data": {
      "text/plain": [
       "936"
      ]
     },
     "execution_count": 20,
     "metadata": {},
     "output_type": "execute_result"
    }
   ],
   "source": [
    "llm.get_num_tokens(complete_prompt)"
   ]
  },
  {
   "cell_type": "code",
   "execution_count": 22,
   "id": "0265edf8",
   "metadata": {},
   "outputs": [
    {
     "name": "stdout",
     "output_type": "stream",
     "text": [
      "**Summary:**\n",
      "\n",
      "The speaker, a Member of Parliament, has joined the 'Viksit Bharat Sankalp Yatra' (Developed India Resolution Journey) to ensure that government schemes reach the intended beneficiaries. He believes that despite numerous schemes and promises, the critical aspect is to ensure that benefits reach people without hassle. He has toured the country to listen to people's experiences with government schemes and to ensure that programs are reaching everyone as planned. The 'Viksit Bharat Sankalp Yatra' is an examination of the government's work, and he wants to hear from people whether the envisioned work has reached those for whom it was meant.\n",
      "\n",
      "The speaker shares stories of people who have benefited from government schemes, such as the Ayushman card, and how it has positively impacted their lives. He also highlights the positive impact on government officers, who feel satisfied when they see the tangible results of their efforts. The speaker emphasizes that the 'Viksit Bharat Sankalp Yatra' has bridged the gap between the rich and poor, and people are experiencing real change in their lives.\n",
      "\n",
      "**Hindi Translation:**\n",
      "\n",
      "**सारांश:**\n",
      "\n",
      "वक्ता, एक सांसद, 'विकसित भारत संकल्प यात्रा' (विकसित भारत संकल्प यात्रा) में शामिल हुए हैं ताकि सरकारी योजनाएं इच्छित लाभार्थियों तक पहुंच सकें। उनका मानना है कि कई योजनाओं और वादों के बावजूद, महत्वपूर्ण पहलू यह सुनिश्चित करना है कि लाभ लोगों तक बिना किसी परेशानी के पहुंचे। उन्होंने देश का दौरा किया है ताकि लोगों के सरकारी योजनाओं के साथ अनुभवों को सुन सकें और यह सुनिश्चित कर सकें कि कार्यक्रम योजनानुसार सभी तक पहुंच रहे हैं। 'विकसित भारत संकल्प यात्रा' सरकार के काम की एक परीक्षा है, और वह लोगों से जानना चाहते हैं कि क्या कल्पित काम उन तक पहुंच गया है जिनके लिए यह था।\n",
      "\n",
      "वक्ता उन लोगों की कहानियां साझा करते हैं जिन्होंने आयुष्मान कार्ड जैसी सरकारी योजनाओं से लाभ उठाया है, और यह कैसे उनके जीवन पर सकारात्मक प्रभाव डालता है। वह सरकारी अधिकारियों पर सकारात्मक प्रभाव को भी उजागर करते हैं, जो अपने प्रयासों के मूर्त परिणामों को देखकर संतुष्ट महसूस करते हैं। वक्ता जोर देते हैं कि 'विकसित भारत संकल्प यात्रा' ने अमीर और गरीब के बीच की खाई को पाट दिया है, और लोग अपने जीवन में वास्तविक परिवर्तन का अनुभव कर रहे हैं।\n"
     ]
    }
   ],
   "source": [
    "llm_chain = LLMChain(llm=llm, prompt=prompt)\n",
    "summary = llm_chain.run(speech = speech,language = \"hindi\")\n",
    "print(summary)"
   ]
  },
  {
   "cell_type": "code",
   "execution_count": 24,
   "id": "4d2d611f",
   "metadata": {},
   "outputs": [
    {
     "data": {
      "text/plain": [
       "[Document(metadata={'producer': 'GPL Ghostscript 8.15', 'creator': 'PScript5.dll Version 5.2', 'creationdate': 'D:20070730160943', 'moddate': 'D:20070730160943', 'title': 'Microsoft Word - Document1', 'author': 'Shri', 'source': 'apjspeech.pdf', 'total_pages': 7, 'page': 0, 'page_label': '1'}, page_content='A P J Abdul Kalam Departing speech \\n \\n \\nFriends, I am delighted to address you all, in the country and those living abroad, after \\nworking with you and completing five beautiful and eventful years in Rashtrapati \\nBhavan. Today, it is indeed a thanks giving occasion. I would like to narr ate, how I \\nenjoyed every minute of my tenure enriched by the wonderful assoc iation from each one \\nof you, hailing from different walks of life, be it politics, sci ence and technology, \\nacademics, arts, literature, business, judiciary, administration, local bodies, farming, \\nhome makers, special children, media and above all from the youth and st udent \\ncommunity who are the future wealth of our country. During my intera ction at \\nRashtrapati Bhavan in Delhi and at every state and union territor y as well as through my \\nonline interactions, I have many unique experiences to share with you, which signify the \\nfollowing important messages: \\n \\n1. Accelerate development : Aspiration of the youth, \\n \\n2. Empower villages, \\n \\n3. Mobilize rural core competence for competitiveness, \\n \\n4. Seed to Food: Backbone for agricultural growth \\n \\n5. Defeat problems and succeed, \\n \\n6. Overcome problems through partnership, \\n \\n7. Courage in combating calamities, \\n \\n8. Connectivity for societal transformation, \\n \\n9. Defending the nation: Our pride and \\n \\n10. Youth movement for Developed India 2020. \\n \\nNow let me share with you each of the messages. \\n \\nAccelerate Development: Aspiration of the youth \\nWhile there were many significant events during my tenure, a question from a little girl \\nAnukriti of Sri Sathya Sai Jagriti Vidya Mandir School, of Dar wa village from Haryana, \\nduring children’s visit to Rashtrapati Bhavan on May 22, 2006, rings in my  mind ever \\nafter. \\n \\nAnukriti asked me “why India cannot become a developed nation before the year 2020”. I \\nappreciated the question and said it was indeed a thoughtful question and assured her that \\nthat her dream would be taken to the highest institution of the nation and we would work'),\n",
       " Document(metadata={'producer': 'GPL Ghostscript 8.15', 'creator': 'PScript5.dll Version 5.2', 'creationdate': 'D:20070730160943', 'moddate': 'D:20070730160943', 'title': 'Microsoft Word - Document1', 'author': 'Shri', 'source': 'apjspeech.pdf', 'total_pages': 7, 'page': 1, 'page_label': '2'}, page_content='for it to achieve before 2020. This question reflects how the desire t o live in developed \\nIndia has entered into the minds of the youth. The same feelings are  echoed by over \\nfifteen lakh youth, whom I have met so far and who represent the drea m of the 540 \\nmillion youth of the nation. The aspirations of the young to live in a prosperous, safe and \\nproud India should be the guiding factor in whatever profession we contribute. \\n \\nEmpower Villages \\nFriends, I recall my visit to Nagaland on 26th October 2002, soon after my assuming \\noffice as President. It was a unique experience for me at Khuza ma village to meet tribal \\nvillage council members and discuss with them the village progress  and the dream of \\nvillage citizens. I was very happy to see the empowered village  council functioning with \\nfinancial powers and taking decisions. I saw a prosperous village with fruits and \\nvegetables production. However, there is a need for providing physical c onnectivity in \\nNagaland through quality roads for enabling faster movement of produ cts from villages \\nto the market. That meeting gave me a powerful message about the t ransformation which \\ncan take place to the 600,000 villages of India, if all the villages a re empowered to deal \\nwith their development and are well connected among themselves and wit h the urban \\nsocieties. \\n \\nMobilizing rural core competence for competitiveness \\nNow I would like to talk about the initiative of Periyar Maniammai College of \\nTechnology for Women, Vallam, Tanjore of Providing Urban Amenities in Rural Areas \\n(PURA) complex involving 65 villages with a population of 3 lakhs. This inc ludes \\nprovision of three connectivities - physical, electronic and knowledge  - leading to \\neconomic connectivity. Periyar PURA has health care centers, pr imary to post graduate \\nlevel education and vocational training centers. This has resulted i n large-scale \\nemployment generation and creation of number of entrepreneurs with the  active support \\nof 1000 self-help groups. Two hundred acres of waste land has been develope d into a \\ncultivable land. The villagers are busy in cultivation, planting Jatropha, herbal and \\nmedicinal plants, power generation using bio-mass, food processing and above all \\nrunning marketing centers. It provides a sustainable economic development model for the \\nwhole region. \\n \\nDuring the last eight months, people of Periyar PURA villages technologically supported \\nby Periyar Maniammai College of Engineering for Women have w orked with experts \\nfrom Japan External Trade Organisation (JETRO) on various products, for  which core \\ncompetence and raw material are available in Thanjavur district. They developed \\ninternationally competitive prototypes for 55 life style products wi th support of JETRO \\nspecialists and feedback from exhibitions at Delhi and Tokyo. This co -operative venture \\nhas enhanced the innovative ability of the people of all the 65 villages  enabling them to \\ndevelop and produce internationally acceptable products. I have seen si milar type of \\nPURA being established in many states. The whole country needs 7000 PU RA to \\nbridging the rural – urban divide. \\n \\nSeed to Food: Backbone for agricultural growth'),\n",
       " Document(metadata={'producer': 'GPL Ghostscript 8.15', 'creator': 'PScript5.dll Version 5.2', 'creationdate': 'D:20070730160943', 'moddate': 'D:20070730160943', 'title': 'Microsoft Word - Document1', 'author': 'Shri', 'source': 'apjspeech.pdf', 'total_pages': 7, 'page': 2, 'page_label': '3'}, page_content='Let me now share with you, the enriching experience I had, whil e meeting more than \\n6000 farmers from different States and Union Territories visitin g Rashtrapati Bhavan. \\nThey evinced keen interest in the Mughal Gardens, the Herbal Gardens , the Spiritual \\nGarden, the Musical Garden, the Bio-diesel garden and the Nutrition Garden and interact \\nwith the Horticultural specialists. Recently, during my address to the agricultural \\nscientists while participating in a National Symposium on “Agri culture Cannot Wait”, I \\nsummarized the many practical suggestions given by farmers. W e have to double the \\nagricultural production with reduced land, reduced water resources and re duced \\nmanpower and improve the economic conditions of the nation through the principle  of \\n“Seed to Food” since agriculture is the backbone of the nation. We should em power the \\nfarmers to protect and nurture the fertile land for second green re volution. Meeting the \\nScientists and the Farmers has given me the confidence \\nthat the nation is poised to increase the agricultural GDP growth by atleast 4% per annum \\nthrough the partnership of farmers and agricultural scientists a nd industries particularly \\nfor value addition. \\n \\nDefeat the problems and succeed \\nOn the evening of February 24, 2007, at Coimbatore, I had a very beautiful experience. \\nAs I got ready for meeting the first person out of twenty appoint ments, a wheel chair was \\nin sight with a smiling person probably in his late fifties; unfortunately he has no hands \\nand legs. His radiant face was revealing his happy state of mi nd. He introduced himself \\nas Vidwan Coimbatore SR Krishna Murthy. I greeted him and asked him  how this had \\nhappened. He smilingly said that it was from by birth. He thanked G od, his parents, \\nteachers and many others for giving him confidence, training and he lp. I asked him, what \\nI could do for him? He said, “I don’t need anything from you. I would like to sing in fr ont \\nof you”. I readily agreed. He sang melodiously the Saint Thyagraj a’s pancha ratna kriti \\nentharo mahanubavulu in Sriragam giving me a glimpse of his talent. I was quite touched. \\nWhat is the message? Despite being physically challenged, the latent talent of music \\ncould blossom in this \\nperson with his positive attitude and perseverance, encouraged by the parents, teachers, \\nacademics and rasikas. Now he wants to give, give and give his art to inspire others. Of \\ncourse, by his merit of music, in July 2007, he performed in the Rashtra pati Bhavan art \\ntheatre. \\n \\nOvercome the impact of disaster through partnership \\nI had the opportunity to experience the Indomitable Spirit of the people and children of \\nJammu & Kashmir even as they were just recovering from the de vastating earthquake in \\n2005. I visited Urusa village on 26th November 2005 which has been adopted by the  \\nWestern Air Command, Air Force for providing relief and medical aid to the residents of \\nthat area. When I went there, I found that the school building had been severely damaged. \\nI met all the school children and the village citizen of Urusa. The villagers apprised me of \\ntheir losses and had all praise for Army and Air Force role in rescue and relief operations \\nalong with state government. I appreciate the courage of the people of Urusa in defeating \\ntheir problems. They have actually become the master of the probl em rather than \\nallowing problems to become their master. Despite the severe l oss due to the earthquake,'),\n",
       " Document(metadata={'producer': 'GPL Ghostscript 8.15', 'creator': 'PScript5.dll Version 5.2', 'creationdate': 'D:20070730160943', 'moddate': 'D:20070730160943', 'title': 'Microsoft Word - Document1', 'author': 'Shri', 'source': 'apjspeech.pdf', 'total_pages': 7, 'page': 3, 'page_label': '4'}, page_content='the children and the members of the village participated in the reli ef operation with the \\nArmed Forces \\nbravely and were smiling when I went to meet them. They interacted with me and said \\nthat the school was functional in the temporary tents. Here, I also witnessed the \\nparticipation of acting Chief Justice of Jammu & Kashmir along with State Government \\nauthorities in on-the-spot settlement of relief grants to be provide d to the victims whose \\nhouses had been damaged in the earth quake. I have experienced many s uch acts of \\ncourage from our citizens when faced with severe challenges. \\n \\nCourage in combating calamities \\nIn 2005, I met the Tribal Council Leaders, Students, Children of Chuckchucha village \\nduring my visit to Car Nicobar Islands. While various reconstruction a nd rehabilitation \\nactivities were in progress, during the discussions with the members  of tribal council, I \\nrealized the unique trait among the Car-Nicobar islanders. Even thoug h there were many \\nhuman losses due to the Tsunami of 26 Dec 2004, the tribal islanders had  taken \\npossession of affected victims as their children and there is nothi ng like orphanage in \\nCar-Nicobar Islands. Touched by their courage, I composed few vers es called “Sea \\nWaves” which reads as follows: \\nSea Waves \\n \\nWe are the children of Sea waves, \\nSea waves are my friends. \\nWhen they become angry, \\nSea waves give the challenges. \\nGod has given the courage, \\nTo challenge the sea waves. \\nAnd we will succeed, \\nWe will succeed \\nWith Almighty’s grace. \\nAll the members who were gathered in the village sang the poem with me and exhibited \\nlots of courage and enthusiasm even though they had gone through severe  suffering \\nduring the Tsunami. \\n \\nConnectivity for societal transformation \\nI addressed the Pan African Parliament on 16 September 2004, at Johannesburg, South \\nAfrica. This was attended by 53 member countries of the Africa n Union, where I \\nproposed the concept of Pan African e-Network for providing seamless and integrated \\nsatellite, fiber optics and wireless network connecting 53 African countries at an \\nestimated cost of US $ 100 million. \\n \\nAs part of the project 12 universities (7 from India and 5 from Africa), 17 Super \\nSpecialty Hospitals (12 from India and 5 from Africa), 53 tele-me dicine centers and 53 \\ntele-education centres in Africa will be connected. The pilot project on tele-education and \\ntele-medicine in Ethiopia has already been commissioned. Indira Gandh i National Open \\nUniversity has taken up the MBA Course for 34 Ethiopian students of Addis  Ababa and \\nHarmaya Universities. As regards, tele-medicine, the special ists from CARE Hospital,'),\n",
       " Document(metadata={'producer': 'GPL Ghostscript 8.15', 'creator': 'PScript5.dll Version 5.2', 'creationdate': 'D:20070730160943', 'moddate': 'D:20070730160943', 'title': 'Microsoft Word - Document1', 'author': 'Shri', 'source': 'apjspeech.pdf', 'total_pages': 7, 'page': 4, 'page_label': '5'}, page_content='Hyderabad are providing one-hour live tele-consultation to doctors in B lack Lion \\nHospital, Addis Ababa in Cardiology and Radiology since November 2006. Using the \\nPan African network the Heads of the State in all the 53 countries  will be connected for \\ninstant communication. I am extremely happy that Indian experience  in bringing the \\nbenefits of technology to the people has enabled us to work with Afric a to bring societal \\ntransformation in the African continent. \\n \\nDefending the nation: Our pride \\nI visited KUMAR in Siachen Glacier located at 17,000 feet altitude held by the Indian \\nArmy, had a memorable underwater journey in INS Sindhurakshak and flew  in a Sukhoi-\\n30 fighter experiencing 2.5 g. In these three experiences, I personal ly felt proud of our \\never vigilant Soldiers, Sailors and Air Warriors performing their  tasks beyond the call of \\ntheir duty even in the most adverse circumstances natural and man m ade. During the last \\nfive years, I had an opportunity to present colours to many regime nts, participate in \\nnumber of passing out parades, meet the troops who were going to undertake  peace \\nmissions and interact with the family members of our Defence F orces. Our Defence \\nForces are in a beautiful mission. When the nation sleeps during night , Members of our \\nDefence teams are awake to guard us and remain vigilant to counte r any threat. The \\nNation cherishes the valour, commitment and devotion to duty of our Defenc e Forces. \\nSimilarly, I had opportunities to interact \\nwith members of our para-military forces, central and state police personnel including \\ninternal security forces who are making immense contribution in au gmenting the safety \\nand security of our citizens under difficult conditions. \\n \\nYouth movement for Developed India 2020 \\nRecently, in Hyderabad, I met a group of citizens who are putting into practice the motto \\nof transforming of our youth into enlightened citizen. The Lead India 2020 Found ation \\ncreated by Dr. N.B. Sudershan at Hyderabad is training thousands of s tudents in many \\ndistricts of Andhra Pradesh in partnership with the District Adm inistration. Particularly, I \\nhappened to know the transformation which has taken place among the students  of \\nMedak district. As per the district authorities the impact of the  training on the students is \\nvisible in terms of self-discipline, love for their parents and tea chers shedding of stage \\nfear and recognition of their duties towards the nation. I talke d to Ms. Padma, a student \\nleader from Andhra Pradesh Tribal Welfare School, Nalgonda who relat ed how she \\nweaned her father away from smoking after imbibing the spirit of  the 10 point oath from \\nthe Lead India Training Camp. This gives me an assurance that the  youth of our country \\nare on the right path \\nthrough this mission oriented programme. With the ignited minds of the 540 million \\nyouth below the age of 25, which I consider is the most powerful resour ce on the earth, \\nunder the earth and above the earth, we have to empower the youth through va lue based \\neducation and leadership. \\n \\nConclusion \\nI was touched by the variety of Indian panorama, emotional content of the tune, cultural \\ndiversity and unity of minds in the vast land of ours. I have cited thes e examples just to \\ngive a glimpse of the richness of our tradition and effort being taken by different agencies'),\n",
       " Document(metadata={'producer': 'GPL Ghostscript 8.15', 'creator': 'PScript5.dll Version 5.2', 'creationdate': 'D:20070730160943', 'moddate': 'D:20070730160943', 'title': 'Microsoft Word - Document1', 'author': 'Shri', 'source': 'apjspeech.pdf', 'total_pages': 7, 'page': 5, 'page_label': '6'}, page_content='to preserve it. There are also many new adventures by instituti ons and individuals. I have \\nexperienced many of them and learnt a lot about my country and our peopl e. Even while \\npursuing our economic growth, we need to do a lot to preserve the rich and diverse \\ntreasures of our culture and civilization. It is our duty for our fut ure generations. This has \\nto be done in a much larger scale through countrywide participatio n of multiple \\ninstitutions. Our country is blessed with natural resources, has shown c onsiderable \\nprogress in the last sixty years, and above all we have hard wor king people particularly \\nthe power of the 540 million youth of the country. Every sector of our count ry has given \\nme the \\nconfidence that India can become a developed nation well before 2020. Whomsoever, I \\nmet they constantly ask what they can give to the nation. We should c onstantly strive to \\nempower such members of the society. With this spirit, I am extr emely happy that we are \\non the right path. Here I am reminded of a famous poem: \\n\"When you wish upon a star, \\nMakes no difference who you are, \\nAnything your heart desires, \\nWill come to you” \\nThis poem is true to all of us, and particularly for our youth and if they aim great, I am \\nsure they will reach close to the target or the target. \\n \\nMy dear citizens, let us resolve to continue to work for realizing the missions of \\ndeveloped India 2020 with the following distinctive profile. \\n \\n1. A Nation where the rural and urban divide has reduced to a thin line. \\n \\n2. A Nation where there is an equitable distribution and adequate access to energy and \\nquality water. \\n \\n3. A Nation where agriculture, industry and service sector work together in symphony. \\n \\n4. A Nation where education with value system is not denied to any meritorious \\ncandidates because of societal or economic discrimination. \\n \\n5. A Nation which is the best destination for the most talented scholars, scientists, and \\ninvestors. \\n \\n6. A Nation where the best of health care is available to all. \\n \\n7. A Nation where the governance is responsive, transparent and corruption free. \\n \\n8. A Nation where poverty has been totally eradicated, illiteracy removed and crimes \\nagainst women and children are absent and none in the society feels alienated. \\n \\n9. A Nation that is prosperous, healthy, secure, peaceful and happy and continues with a \\nsustainable growth path.'),\n",
       " Document(metadata={'producer': 'GPL Ghostscript 8.15', 'creator': 'PScript5.dll Version 5.2', 'creationdate': 'D:20070730160943', 'moddate': 'D:20070730160943', 'title': 'Microsoft Word - Document1', 'author': 'Shri', 'source': 'apjspeech.pdf', 'total_pages': 7, 'page': 6, 'page_label': '7'}, page_content='10. A Nation that is one of the best places to live in and is proud of its leadership. \\n \\nFinally let me thank each one of you for showering your love and affection on me \\nthroughout the last five years by your cooperation and support. \\n \\nDear Citizens, I conclude my address by sharing with you my mission in life which is to \\nbring connectivity between billion hearts and minds of the people of Indi a in our \\nmulticultural society and to embed the self confidence that \"we c an do it\". I will be \\nalways with you, dear citizens, in the great mission of making Indi a a developed nation \\nbefore 2020. \\n \\nMay God bless you. \\n \\nJai hind. \\nDr. A. P. J. Abdul Kalam \\nwww.presidentofindia.nic.in')]"
      ]
     },
     "execution_count": 24,
     "metadata": {},
     "output_type": "execute_result"
    }
   ],
   "source": [
    "from langchain_community.document_loaders import PyPDFLoader\n",
    "loader = PyPDFLoader(\"apjspeech.pdf\")\n",
    "docs = loader.load_and_split()\n",
    "docs"
   ]
  },
  {
   "cell_type": "code",
   "execution_count": 25,
   "id": "a730240b",
   "metadata": {},
   "outputs": [],
   "source": [
    "template = \"\"\" write a concise short summary of the following speech,\n",
    "Speech: {text}\n",
    "\n",
    "\"\"\"\n",
    "\n",
    "prompt = PromptTemplate(input_variables= ['text'], template=template)"
   ]
  },
  {
   "cell_type": "code",
   "execution_count": 28,
   "id": "5a9a3719",
   "metadata": {},
   "outputs": [],
   "source": [
    "from langchain.chains.summarize import load_summarize_chain"
   ]
  },
  {
   "cell_type": "code",
   "execution_count": 30,
   "id": "1ca290db",
   "metadata": {},
   "outputs": [
    {
     "data": {
      "text/plain": [
       "'Here is a concise short summary of the speech:\\n\\nOutgoing President A.P.J. Abdul Kalam addressed the nation on his departure, reflecting on his five-year tenure. He shared key messages and experiences that shaped his vision for India\\'s development, including:\\n\\n* Empowering villages and mobilizing rural competence\\n* Accelerating development to meet youth aspirations\\n* Promoting agricultural growth through \"seed to food\" initiatives\\n* Overcoming problems through partnership and courage\\n* Fostering connectivity for societal transformation\\n* Defending the nation through the valor of defense forces\\n* Empowering youth through value-based education and leadership\\n\\nKalam expressed confidence that India can become a developed nation by 2020, with a vision of a prosperous, healthy, secure, and happy nation. He thanked citizens for their support and cooperation, and reiterated his mission to bring connectivity between the hearts and minds of Indians, inspiring a self-confidence that \"we can do it.\"'"
      ]
     },
     "execution_count": 30,
     "metadata": {},
     "output_type": "execute_result"
    }
   ],
   "source": [
    "chain = load_summarize_chain(llm, chain_type=\"stuff\", prompt=prompt)\n",
    "output_summary = chain.run(docs)\n",
    "output_summary"
   ]
  },
  {
   "cell_type": "code",
   "execution_count": null,
   "id": "f60bd362",
   "metadata": {},
   "outputs": [],
   "source": [
    "from langchain.text_splitter import RecursiveCharacterTextSplitter"
   ]
  },
  {
   "cell_type": "code",
   "execution_count": 32,
   "id": "1b8c4e76",
   "metadata": {},
   "outputs": [
    {
     "data": {
      "text/plain": [
       "[Document(metadata={'producer': 'GPL Ghostscript 8.15', 'creator': 'PScript5.dll Version 5.2', 'creationdate': 'D:20070730160943', 'moddate': 'D:20070730160943', 'title': 'Microsoft Word - Document1', 'author': 'Shri', 'source': 'apjspeech.pdf', 'total_pages': 7, 'page': 0, 'page_label': '1'}, page_content='A P J Abdul Kalam Departing speech \\n \\n \\nFriends, I am delighted to address you all, in the country and those living abroad, after \\nworking with you and completing five beautiful and eventful years in Rashtrapati \\nBhavan. Today, it is indeed a thanks giving occasion. I would like to narr ate, how I \\nenjoyed every minute of my tenure enriched by the wonderful assoc iation from each one \\nof you, hailing from different walks of life, be it politics, sci ence and technology, \\nacademics, arts, literature, business, judiciary, administration, local bodies, farming, \\nhome makers, special children, media and above all from the youth and st udent \\ncommunity who are the future wealth of our country. During my intera ction at \\nRashtrapati Bhavan in Delhi and at every state and union territor y as well as through my \\nonline interactions, I have many unique experiences to share with you, which signify the \\nfollowing important messages: \\n \\n1. Accelerate development : Aspiration of the youth, \\n \\n2. Empower villages, \\n \\n3. Mobilize rural core competence for competitiveness, \\n \\n4. Seed to Food: Backbone for agricultural growth \\n \\n5. Defeat problems and succeed, \\n \\n6. Overcome problems through partnership, \\n \\n7. Courage in combating calamities, \\n \\n8. Connectivity for societal transformation, \\n \\n9. Defending the nation: Our pride and \\n \\n10. Youth movement for Developed India 2020. \\n \\nNow let me share with you each of the messages. \\n \\nAccelerate Development: Aspiration of the youth \\nWhile there were many significant events during my tenure, a question from a little girl \\nAnukriti of Sri Sathya Sai Jagriti Vidya Mandir School, of Dar wa village from Haryana, \\nduring children’s visit to Rashtrapati Bhavan on May 22, 2006, rings in my  mind ever \\nafter. \\n \\nAnukriti asked me “why India cannot become a developed nation before the year 2020”. I \\nappreciated the question and said it was indeed a thoughtful question and assured her that \\nthat her dream would be taken to the highest institution of the nation and we would work'),\n",
       " Document(metadata={'producer': 'GPL Ghostscript 8.15', 'creator': 'PScript5.dll Version 5.2', 'creationdate': 'D:20070730160943', 'moddate': 'D:20070730160943', 'title': 'Microsoft Word - Document1', 'author': 'Shri', 'source': 'apjspeech.pdf', 'total_pages': 7, 'page': 1, 'page_label': '2'}, page_content='for it to achieve before 2020. This question reflects how the desire t o live in developed \\nIndia has entered into the minds of the youth. The same feelings are  echoed by over \\nfifteen lakh youth, whom I have met so far and who represent the drea m of the 540 \\nmillion youth of the nation. The aspirations of the young to live in a prosperous, safe and \\nproud India should be the guiding factor in whatever profession we contribute. \\n \\nEmpower Villages \\nFriends, I recall my visit to Nagaland on 26th October 2002, soon after my assuming \\noffice as President. It was a unique experience for me at Khuza ma village to meet tribal \\nvillage council members and discuss with them the village progress  and the dream of \\nvillage citizens. I was very happy to see the empowered village  council functioning with \\nfinancial powers and taking decisions. I saw a prosperous village with fruits and \\nvegetables production. However, there is a need for providing physical c onnectivity in \\nNagaland through quality roads for enabling faster movement of produ cts from villages \\nto the market. That meeting gave me a powerful message about the t ransformation which \\ncan take place to the 600,000 villages of India, if all the villages a re empowered to deal \\nwith their development and are well connected among themselves and wit h the urban \\nsocieties. \\n \\nMobilizing rural core competence for competitiveness \\nNow I would like to talk about the initiative of Periyar Maniammai College of \\nTechnology for Women, Vallam, Tanjore of Providing Urban Amenities in Rural Areas \\n(PURA) complex involving 65 villages with a population of 3 lakhs. This inc ludes \\nprovision of three connectivities - physical, electronic and knowledge  - leading to \\neconomic connectivity. Periyar PURA has health care centers, pr imary to post graduate \\nlevel education and vocational training centers. This has resulted i n large-scale \\nemployment generation and creation of number of entrepreneurs with the  active support \\nof 1000 self-help groups. Two hundred acres of waste land has been develope d into a \\ncultivable land. The villagers are busy in cultivation, planting Jatropha, herbal and \\nmedicinal plants, power generation using bio-mass, food processing and above all \\nrunning marketing centers. It provides a sustainable economic development model for the \\nwhole region. \\n \\nDuring the last eight months, people of Periyar PURA villages technologically supported \\nby Periyar Maniammai College of Engineering for Women have w orked with experts \\nfrom Japan External Trade Organisation (JETRO) on various products, for  which core \\ncompetence and raw material are available in Thanjavur district. They developed \\ninternationally competitive prototypes for 55 life style products wi th support of JETRO \\nspecialists and feedback from exhibitions at Delhi and Tokyo. This co -operative venture \\nhas enhanced the innovative ability of the people of all the 65 villages  enabling them to \\ndevelop and produce internationally acceptable products. I have seen si milar type of \\nPURA being established in many states. The whole country needs 7000 PU RA to \\nbridging the rural – urban divide. \\n \\nSeed to Food: Backbone for agricultural growth'),\n",
       " Document(metadata={'producer': 'GPL Ghostscript 8.15', 'creator': 'PScript5.dll Version 5.2', 'creationdate': 'D:20070730160943', 'moddate': 'D:20070730160943', 'title': 'Microsoft Word - Document1', 'author': 'Shri', 'source': 'apjspeech.pdf', 'total_pages': 7, 'page': 2, 'page_label': '3'}, page_content='Let me now share with you, the enriching experience I had, whil e meeting more than \\n6000 farmers from different States and Union Territories visitin g Rashtrapati Bhavan. \\nThey evinced keen interest in the Mughal Gardens, the Herbal Gardens , the Spiritual \\nGarden, the Musical Garden, the Bio-diesel garden and the Nutrition Garden and interact \\nwith the Horticultural specialists. Recently, during my address to the agricultural \\nscientists while participating in a National Symposium on “Agri culture Cannot Wait”, I \\nsummarized the many practical suggestions given by farmers. W e have to double the \\nagricultural production with reduced land, reduced water resources and re duced \\nmanpower and improve the economic conditions of the nation through the principle  of \\n“Seed to Food” since agriculture is the backbone of the nation. We should em power the \\nfarmers to protect and nurture the fertile land for second green re volution. Meeting the \\nScientists and the Farmers has given me the confidence \\nthat the nation is poised to increase the agricultural GDP growth by atleast 4% per annum \\nthrough the partnership of farmers and agricultural scientists a nd industries particularly \\nfor value addition. \\n \\nDefeat the problems and succeed \\nOn the evening of February 24, 2007, at Coimbatore, I had a very beautiful experience. \\nAs I got ready for meeting the first person out of twenty appoint ments, a wheel chair was \\nin sight with a smiling person probably in his late fifties; unfortunately he has no hands \\nand legs. His radiant face was revealing his happy state of mi nd. He introduced himself \\nas Vidwan Coimbatore SR Krishna Murthy. I greeted him and asked him  how this had \\nhappened. He smilingly said that it was from by birth. He thanked G od, his parents, \\nteachers and many others for giving him confidence, training and he lp. I asked him, what \\nI could do for him? He said, “I don’t need anything from you. I would like to sing in fr ont \\nof you”. I readily agreed. He sang melodiously the Saint Thyagraj a’s pancha ratna kriti \\nentharo mahanubavulu in Sriragam giving me a glimpse of his talent. I was quite touched. \\nWhat is the message? Despite being physically challenged, the latent talent of music \\ncould blossom in this \\nperson with his positive attitude and perseverance, encouraged by the parents, teachers, \\nacademics and rasikas. Now he wants to give, give and give his art to inspire others. Of \\ncourse, by his merit of music, in July 2007, he performed in the Rashtra pati Bhavan art \\ntheatre. \\n \\nOvercome the impact of disaster through partnership \\nI had the opportunity to experience the Indomitable Spirit of the people and children of \\nJammu & Kashmir even as they were just recovering from the de vastating earthquake in \\n2005. I visited Urusa village on 26th November 2005 which has been adopted by the  \\nWestern Air Command, Air Force for providing relief and medical aid to the residents of \\nthat area. When I went there, I found that the school building had been severely damaged. \\nI met all the school children and the village citizen of Urusa. The villagers apprised me of \\ntheir losses and had all praise for Army and Air Force role in rescue and relief operations \\nalong with state government. I appreciate the courage of the people of Urusa in defeating \\ntheir problems. They have actually become the master of the probl em rather than \\nallowing problems to become their master. Despite the severe l oss due to the earthquake,'),\n",
       " Document(metadata={'producer': 'GPL Ghostscript 8.15', 'creator': 'PScript5.dll Version 5.2', 'creationdate': 'D:20070730160943', 'moddate': 'D:20070730160943', 'title': 'Microsoft Word - Document1', 'author': 'Shri', 'source': 'apjspeech.pdf', 'total_pages': 7, 'page': 3, 'page_label': '4'}, page_content='the children and the members of the village participated in the reli ef operation with the \\nArmed Forces \\nbravely and were smiling when I went to meet them. They interacted with me and said \\nthat the school was functional in the temporary tents. Here, I also witnessed the \\nparticipation of acting Chief Justice of Jammu & Kashmir along with State Government \\nauthorities in on-the-spot settlement of relief grants to be provide d to the victims whose \\nhouses had been damaged in the earth quake. I have experienced many s uch acts of \\ncourage from our citizens when faced with severe challenges. \\n \\nCourage in combating calamities \\nIn 2005, I met the Tribal Council Leaders, Students, Children of Chuckchucha village \\nduring my visit to Car Nicobar Islands. While various reconstruction a nd rehabilitation \\nactivities were in progress, during the discussions with the members  of tribal council, I \\nrealized the unique trait among the Car-Nicobar islanders. Even thoug h there were many \\nhuman losses due to the Tsunami of 26 Dec 2004, the tribal islanders had  taken \\npossession of affected victims as their children and there is nothi ng like orphanage in \\nCar-Nicobar Islands. Touched by their courage, I composed few vers es called “Sea \\nWaves” which reads as follows: \\nSea Waves \\n \\nWe are the children of Sea waves, \\nSea waves are my friends. \\nWhen they become angry, \\nSea waves give the challenges. \\nGod has given the courage, \\nTo challenge the sea waves. \\nAnd we will succeed, \\nWe will succeed \\nWith Almighty’s grace. \\nAll the members who were gathered in the village sang the poem with me and exhibited \\nlots of courage and enthusiasm even though they had gone through severe  suffering \\nduring the Tsunami. \\n \\nConnectivity for societal transformation \\nI addressed the Pan African Parliament on 16 September 2004, at Johannesburg, South \\nAfrica. This was attended by 53 member countries of the Africa n Union, where I \\nproposed the concept of Pan African e-Network for providing seamless and integrated \\nsatellite, fiber optics and wireless network connecting 53 African countries at an \\nestimated cost of US $ 100 million. \\n \\nAs part of the project 12 universities (7 from India and 5 from Africa), 17 Super \\nSpecialty Hospitals (12 from India and 5 from Africa), 53 tele-me dicine centers and 53 \\ntele-education centres in Africa will be connected. The pilot project on tele-education and \\ntele-medicine in Ethiopia has already been commissioned. Indira Gandh i National Open \\nUniversity has taken up the MBA Course for 34 Ethiopian students of Addis  Ababa and \\nHarmaya Universities. As regards, tele-medicine, the special ists from CARE Hospital,'),\n",
       " Document(metadata={'producer': 'GPL Ghostscript 8.15', 'creator': 'PScript5.dll Version 5.2', 'creationdate': 'D:20070730160943', 'moddate': 'D:20070730160943', 'title': 'Microsoft Word - Document1', 'author': 'Shri', 'source': 'apjspeech.pdf', 'total_pages': 7, 'page': 4, 'page_label': '5'}, page_content='Hyderabad are providing one-hour live tele-consultation to doctors in B lack Lion \\nHospital, Addis Ababa in Cardiology and Radiology since November 2006. Using the \\nPan African network the Heads of the State in all the 53 countries  will be connected for \\ninstant communication. I am extremely happy that Indian experience  in bringing the \\nbenefits of technology to the people has enabled us to work with Afric a to bring societal \\ntransformation in the African continent. \\n \\nDefending the nation: Our pride \\nI visited KUMAR in Siachen Glacier located at 17,000 feet altitude held by the Indian \\nArmy, had a memorable underwater journey in INS Sindhurakshak and flew  in a Sukhoi-\\n30 fighter experiencing 2.5 g. In these three experiences, I personal ly felt proud of our \\never vigilant Soldiers, Sailors and Air Warriors performing their  tasks beyond the call of \\ntheir duty even in the most adverse circumstances natural and man m ade. During the last \\nfive years, I had an opportunity to present colours to many regime nts, participate in \\nnumber of passing out parades, meet the troops who were going to undertake  peace \\nmissions and interact with the family members of our Defence F orces. Our Defence \\nForces are in a beautiful mission. When the nation sleeps during night , Members of our \\nDefence teams are awake to guard us and remain vigilant to counte r any threat. The \\nNation cherishes the valour, commitment and devotion to duty of our Defenc e Forces. \\nSimilarly, I had opportunities to interact \\nwith members of our para-military forces, central and state police personnel including \\ninternal security forces who are making immense contribution in au gmenting the safety \\nand security of our citizens under difficult conditions. \\n \\nYouth movement for Developed India 2020 \\nRecently, in Hyderabad, I met a group of citizens who are putting into practice the motto \\nof transforming of our youth into enlightened citizen. The Lead India 2020 Found ation \\ncreated by Dr. N.B. Sudershan at Hyderabad is training thousands of s tudents in many \\ndistricts of Andhra Pradesh in partnership with the District Adm inistration. Particularly, I \\nhappened to know the transformation which has taken place among the students  of \\nMedak district. As per the district authorities the impact of the  training on the students is \\nvisible in terms of self-discipline, love for their parents and tea chers shedding of stage \\nfear and recognition of their duties towards the nation. I talke d to Ms. Padma, a student \\nleader from Andhra Pradesh Tribal Welfare School, Nalgonda who relat ed how she \\nweaned her father away from smoking after imbibing the spirit of  the 10 point oath from \\nthe Lead India Training Camp. This gives me an assurance that the  youth of our country \\nare on the right path \\nthrough this mission oriented programme. With the ignited minds of the 540 million \\nyouth below the age of 25, which I consider is the most powerful resour ce on the earth, \\nunder the earth and above the earth, we have to empower the youth through va lue based \\neducation and leadership. \\n \\nConclusion \\nI was touched by the variety of Indian panorama, emotional content of the tune, cultural \\ndiversity and unity of minds in the vast land of ours. I have cited thes e examples just to \\ngive a glimpse of the richness of our tradition and effort being taken by different agencies'),\n",
       " Document(metadata={'producer': 'GPL Ghostscript 8.15', 'creator': 'PScript5.dll Version 5.2', 'creationdate': 'D:20070730160943', 'moddate': 'D:20070730160943', 'title': 'Microsoft Word - Document1', 'author': 'Shri', 'source': 'apjspeech.pdf', 'total_pages': 7, 'page': 5, 'page_label': '6'}, page_content='to preserve it. There are also many new adventures by instituti ons and individuals. I have \\nexperienced many of them and learnt a lot about my country and our peopl e. Even while \\npursuing our economic growth, we need to do a lot to preserve the rich and diverse \\ntreasures of our culture and civilization. It is our duty for our fut ure generations. This has \\nto be done in a much larger scale through countrywide participatio n of multiple \\ninstitutions. Our country is blessed with natural resources, has shown c onsiderable \\nprogress in the last sixty years, and above all we have hard wor king people particularly \\nthe power of the 540 million youth of the country. Every sector of our count ry has given \\nme the \\nconfidence that India can become a developed nation well before 2020. Whomsoever, I \\nmet they constantly ask what they can give to the nation. We should c onstantly strive to \\nempower such members of the society. With this spirit, I am extr emely happy that we are \\non the right path. Here I am reminded of a famous poem: \\n\"When you wish upon a star, \\nMakes no difference who you are, \\nAnything your heart desires, \\nWill come to you” \\nThis poem is true to all of us, and particularly for our youth and if they aim great, I am \\nsure they will reach close to the target or the target. \\n \\nMy dear citizens, let us resolve to continue to work for realizing the missions of \\ndeveloped India 2020 with the following distinctive profile. \\n \\n1. A Nation where the rural and urban divide has reduced to a thin line. \\n \\n2. A Nation where there is an equitable distribution and adequate access to energy and \\nquality water. \\n \\n3. A Nation where agriculture, industry and service sector work together in symphony. \\n \\n4. A Nation where education with value system is not denied to any meritorious \\ncandidates because of societal or economic discrimination. \\n \\n5. A Nation which is the best destination for the most talented scholars, scientists, and \\ninvestors. \\n \\n6. A Nation where the best of health care is available to all. \\n \\n7. A Nation where the governance is responsive, transparent and corruption free. \\n \\n8. A Nation where poverty has been totally eradicated, illiteracy removed and crimes \\nagainst women and children are absent and none in the society feels alienated. \\n \\n9. A Nation that is prosperous, healthy, secure, peaceful and happy and continues with a \\nsustainable growth path.'),\n",
       " Document(metadata={'producer': 'GPL Ghostscript 8.15', 'creator': 'PScript5.dll Version 5.2', 'creationdate': 'D:20070730160943', 'moddate': 'D:20070730160943', 'title': 'Microsoft Word - Document1', 'author': 'Shri', 'source': 'apjspeech.pdf', 'total_pages': 7, 'page': 6, 'page_label': '7'}, page_content='10. A Nation that is one of the best places to live in and is proud of its leadership. \\n \\nFinally let me thank each one of you for showering your love and affection on me \\nthroughout the last five years by your cooperation and support. \\n \\nDear Citizens, I conclude my address by sharing with you my mission in life which is to \\nbring connectivity between billion hearts and minds of the people of Indi a in our \\nmulticultural society and to embed the self confidence that \"we c an do it\". I will be \\nalways with you, dear citizens, in the great mission of making Indi a a developed nation \\nbefore 2020. \\n \\nMay God bless you. \\n \\nJai hind. \\nDr. A. P. J. Abdul Kalam \\nwww.presidentofindia.nic.in')]"
      ]
     },
     "execution_count": 32,
     "metadata": {},
     "output_type": "execute_result"
    }
   ],
   "source": [
    "docs"
   ]
  },
  {
   "cell_type": "code",
   "execution_count": 34,
   "id": "c06e85cf",
   "metadata": {},
   "outputs": [
    {
     "data": {
      "text/plain": [
       "[Document(metadata={'producer': 'GPL Ghostscript 8.15', 'creator': 'PScript5.dll Version 5.2', 'creationdate': 'D:20070730160943', 'moddate': 'D:20070730160943', 'title': 'Microsoft Word - Document1', 'author': 'Shri', 'source': 'apjspeech.pdf', 'total_pages': 7, 'page': 0, 'page_label': '1'}, page_content='A P J Abdul Kalam Departing speech \\n \\n \\nFriends, I am delighted to address you all, in the country and those living abroad, after \\nworking with you and completing five beautiful and eventful years in Rashtrapati \\nBhavan. Today, it is indeed a thanks giving occasion. I would like to narr ate, how I \\nenjoyed every minute of my tenure enriched by the wonderful assoc iation from each one \\nof you, hailing from different walks of life, be it politics, sci ence and technology, \\nacademics, arts, literature, business, judiciary, administration, local bodies, farming, \\nhome makers, special children, media and above all from the youth and st udent \\ncommunity who are the future wealth of our country. During my intera ction at \\nRashtrapati Bhavan in Delhi and at every state and union territor y as well as through my \\nonline interactions, I have many unique experiences to share with you, which signify the \\nfollowing important messages: \\n \\n1. Accelerate development : Aspiration of the youth, \\n \\n2. Empower villages, \\n \\n3. Mobilize rural core competence for competitiveness, \\n \\n4. Seed to Food: Backbone for agricultural growth \\n \\n5. Defeat problems and succeed, \\n \\n6. Overcome problems through partnership, \\n \\n7. Courage in combating calamities, \\n \\n8. Connectivity for societal transformation, \\n \\n9. Defending the nation: Our pride and \\n \\n10. Youth movement for Developed India 2020. \\n \\nNow let me share with you each of the messages. \\n \\nAccelerate Development: Aspiration of the youth \\nWhile there were many significant events during my tenure, a question from a little girl \\nAnukriti of Sri Sathya Sai Jagriti Vidya Mandir School, of Dar wa village from Haryana, \\nduring children’s visit to Rashtrapati Bhavan on May 22, 2006, rings in my  mind ever \\nafter. \\n \\nAnukriti asked me “why India cannot become a developed nation before the year 2020”. I \\nappreciated the question and said it was indeed a thoughtful question and assured her that'),\n",
       " Document(metadata={'producer': 'GPL Ghostscript 8.15', 'creator': 'PScript5.dll Version 5.2', 'creationdate': 'D:20070730160943', 'moddate': 'D:20070730160943', 'title': 'Microsoft Word - Document1', 'author': 'Shri', 'source': 'apjspeech.pdf', 'total_pages': 7, 'page': 0, 'page_label': '1'}, page_content='2. Empower villages, \\n \\n3. Mobilize rural core competence for competitiveness, \\n \\n4. Seed to Food: Backbone for agricultural growth \\n \\n5. Defeat problems and succeed, \\n \\n6. Overcome problems through partnership, \\n \\n7. Courage in combating calamities, \\n \\n8. Connectivity for societal transformation, \\n \\n9. Defending the nation: Our pride and \\n \\n10. Youth movement for Developed India 2020. \\n \\nNow let me share with you each of the messages. \\n \\nAccelerate Development: Aspiration of the youth \\nWhile there were many significant events during my tenure, a question from a little girl \\nAnukriti of Sri Sathya Sai Jagriti Vidya Mandir School, of Dar wa village from Haryana, \\nduring children’s visit to Rashtrapati Bhavan on May 22, 2006, rings in my  mind ever \\nafter. \\n \\nAnukriti asked me “why India cannot become a developed nation before the year 2020”. I \\nappreciated the question and said it was indeed a thoughtful question and assured her that \\nthat her dream would be taken to the highest institution of the nation and we would work'),\n",
       " Document(metadata={'producer': 'GPL Ghostscript 8.15', 'creator': 'PScript5.dll Version 5.2', 'creationdate': 'D:20070730160943', 'moddate': 'D:20070730160943', 'title': 'Microsoft Word - Document1', 'author': 'Shri', 'source': 'apjspeech.pdf', 'total_pages': 7, 'page': 1, 'page_label': '2'}, page_content='for it to achieve before 2020. This question reflects how the desire t o live in developed \\nIndia has entered into the minds of the youth. The same feelings are  echoed by over \\nfifteen lakh youth, whom I have met so far and who represent the drea m of the 540 \\nmillion youth of the nation. The aspirations of the young to live in a prosperous, safe and \\nproud India should be the guiding factor in whatever profession we contribute. \\n \\nEmpower Villages \\nFriends, I recall my visit to Nagaland on 26th October 2002, soon after my assuming \\noffice as President. It was a unique experience for me at Khuza ma village to meet tribal \\nvillage council members and discuss with them the village progress  and the dream of \\nvillage citizens. I was very happy to see the empowered village  council functioning with \\nfinancial powers and taking decisions. I saw a prosperous village with fruits and \\nvegetables production. However, there is a need for providing physical c onnectivity in \\nNagaland through quality roads for enabling faster movement of produ cts from villages \\nto the market. That meeting gave me a powerful message about the t ransformation which \\ncan take place to the 600,000 villages of India, if all the villages a re empowered to deal \\nwith their development and are well connected among themselves and wit h the urban \\nsocieties. \\n \\nMobilizing rural core competence for competitiveness \\nNow I would like to talk about the initiative of Periyar Maniammai College of \\nTechnology for Women, Vallam, Tanjore of Providing Urban Amenities in Rural Areas \\n(PURA) complex involving 65 villages with a population of 3 lakhs. This inc ludes \\nprovision of three connectivities - physical, electronic and knowledge  - leading to \\neconomic connectivity. Periyar PURA has health care centers, pr imary to post graduate \\nlevel education and vocational training centers. This has resulted i n large-scale \\nemployment generation and creation of number of entrepreneurs with the  active support'),\n",
       " Document(metadata={'producer': 'GPL Ghostscript 8.15', 'creator': 'PScript5.dll Version 5.2', 'creationdate': 'D:20070730160943', 'moddate': 'D:20070730160943', 'title': 'Microsoft Word - Document1', 'author': 'Shri', 'source': 'apjspeech.pdf', 'total_pages': 7, 'page': 1, 'page_label': '2'}, page_content='to the market. That meeting gave me a powerful message about the t ransformation which \\ncan take place to the 600,000 villages of India, if all the villages a re empowered to deal \\nwith their development and are well connected among themselves and wit h the urban \\nsocieties. \\n \\nMobilizing rural core competence for competitiveness \\nNow I would like to talk about the initiative of Periyar Maniammai College of \\nTechnology for Women, Vallam, Tanjore of Providing Urban Amenities in Rural Areas \\n(PURA) complex involving 65 villages with a population of 3 lakhs. This inc ludes \\nprovision of three connectivities - physical, electronic and knowledge  - leading to \\neconomic connectivity. Periyar PURA has health care centers, pr imary to post graduate \\nlevel education and vocational training centers. This has resulted i n large-scale \\nemployment generation and creation of number of entrepreneurs with the  active support \\nof 1000 self-help groups. Two hundred acres of waste land has been develope d into a \\ncultivable land. The villagers are busy in cultivation, planting Jatropha, herbal and \\nmedicinal plants, power generation using bio-mass, food processing and above all \\nrunning marketing centers. It provides a sustainable economic development model for the \\nwhole region. \\n \\nDuring the last eight months, people of Periyar PURA villages technologically supported \\nby Periyar Maniammai College of Engineering for Women have w orked with experts \\nfrom Japan External Trade Organisation (JETRO) on various products, for  which core \\ncompetence and raw material are available in Thanjavur district. They developed \\ninternationally competitive prototypes for 55 life style products wi th support of JETRO \\nspecialists and feedback from exhibitions at Delhi and Tokyo. This co -operative venture \\nhas enhanced the innovative ability of the people of all the 65 villages  enabling them to \\ndevelop and produce internationally acceptable products. I have seen si milar type of'),\n",
       " Document(metadata={'producer': 'GPL Ghostscript 8.15', 'creator': 'PScript5.dll Version 5.2', 'creationdate': 'D:20070730160943', 'moddate': 'D:20070730160943', 'title': 'Microsoft Word - Document1', 'author': 'Shri', 'source': 'apjspeech.pdf', 'total_pages': 7, 'page': 1, 'page_label': '2'}, page_content='cultivable land. The villagers are busy in cultivation, planting Jatropha, herbal and \\nmedicinal plants, power generation using bio-mass, food processing and above all \\nrunning marketing centers. It provides a sustainable economic development model for the \\nwhole region. \\n \\nDuring the last eight months, people of Periyar PURA villages technologically supported \\nby Periyar Maniammai College of Engineering for Women have w orked with experts \\nfrom Japan External Trade Organisation (JETRO) on various products, for  which core \\ncompetence and raw material are available in Thanjavur district. They developed \\ninternationally competitive prototypes for 55 life style products wi th support of JETRO \\nspecialists and feedback from exhibitions at Delhi and Tokyo. This co -operative venture \\nhas enhanced the innovative ability of the people of all the 65 villages  enabling them to \\ndevelop and produce internationally acceptable products. I have seen si milar type of \\nPURA being established in many states. The whole country needs 7000 PU RA to \\nbridging the rural – urban divide. \\n \\nSeed to Food: Backbone for agricultural growth'),\n",
       " Document(metadata={'producer': 'GPL Ghostscript 8.15', 'creator': 'PScript5.dll Version 5.2', 'creationdate': 'D:20070730160943', 'moddate': 'D:20070730160943', 'title': 'Microsoft Word - Document1', 'author': 'Shri', 'source': 'apjspeech.pdf', 'total_pages': 7, 'page': 2, 'page_label': '3'}, page_content='Let me now share with you, the enriching experience I had, whil e meeting more than \\n6000 farmers from different States and Union Territories visitin g Rashtrapati Bhavan. \\nThey evinced keen interest in the Mughal Gardens, the Herbal Gardens , the Spiritual \\nGarden, the Musical Garden, the Bio-diesel garden and the Nutrition Garden and interact \\nwith the Horticultural specialists. Recently, during my address to the agricultural \\nscientists while participating in a National Symposium on “Agri culture Cannot Wait”, I \\nsummarized the many practical suggestions given by farmers. W e have to double the \\nagricultural production with reduced land, reduced water resources and re duced \\nmanpower and improve the economic conditions of the nation through the principle  of \\n“Seed to Food” since agriculture is the backbone of the nation. We should em power the \\nfarmers to protect and nurture the fertile land for second green re volution. Meeting the \\nScientists and the Farmers has given me the confidence \\nthat the nation is poised to increase the agricultural GDP growth by atleast 4% per annum \\nthrough the partnership of farmers and agricultural scientists a nd industries particularly \\nfor value addition. \\n \\nDefeat the problems and succeed \\nOn the evening of February 24, 2007, at Coimbatore, I had a very beautiful experience. \\nAs I got ready for meeting the first person out of twenty appoint ments, a wheel chair was \\nin sight with a smiling person probably in his late fifties; unfortunately he has no hands \\nand legs. His radiant face was revealing his happy state of mi nd. He introduced himself \\nas Vidwan Coimbatore SR Krishna Murthy. I greeted him and asked him  how this had \\nhappened. He smilingly said that it was from by birth. He thanked G od, his parents, \\nteachers and many others for giving him confidence, training and he lp. I asked him, what \\nI could do for him? He said, “I don’t need anything from you. I would like to sing in fr ont'),\n",
       " Document(metadata={'producer': 'GPL Ghostscript 8.15', 'creator': 'PScript5.dll Version 5.2', 'creationdate': 'D:20070730160943', 'moddate': 'D:20070730160943', 'title': 'Microsoft Word - Document1', 'author': 'Shri', 'source': 'apjspeech.pdf', 'total_pages': 7, 'page': 2, 'page_label': '3'}, page_content='that the nation is poised to increase the agricultural GDP growth by atleast 4% per annum \\nthrough the partnership of farmers and agricultural scientists a nd industries particularly \\nfor value addition. \\n \\nDefeat the problems and succeed \\nOn the evening of February 24, 2007, at Coimbatore, I had a very beautiful experience. \\nAs I got ready for meeting the first person out of twenty appoint ments, a wheel chair was \\nin sight with a smiling person probably in his late fifties; unfortunately he has no hands \\nand legs. His radiant face was revealing his happy state of mi nd. He introduced himself \\nas Vidwan Coimbatore SR Krishna Murthy. I greeted him and asked him  how this had \\nhappened. He smilingly said that it was from by birth. He thanked G od, his parents, \\nteachers and many others for giving him confidence, training and he lp. I asked him, what \\nI could do for him? He said, “I don’t need anything from you. I would like to sing in fr ont \\nof you”. I readily agreed. He sang melodiously the Saint Thyagraj a’s pancha ratna kriti \\nentharo mahanubavulu in Sriragam giving me a glimpse of his talent. I was quite touched. \\nWhat is the message? Despite being physically challenged, the latent talent of music \\ncould blossom in this \\nperson with his positive attitude and perseverance, encouraged by the parents, teachers, \\nacademics and rasikas. Now he wants to give, give and give his art to inspire others. Of \\ncourse, by his merit of music, in July 2007, he performed in the Rashtra pati Bhavan art \\ntheatre. \\n \\nOvercome the impact of disaster through partnership \\nI had the opportunity to experience the Indomitable Spirit of the people and children of \\nJammu & Kashmir even as they were just recovering from the de vastating earthquake in \\n2005. I visited Urusa village on 26th November 2005 which has been adopted by the  \\nWestern Air Command, Air Force for providing relief and medical aid to the residents of'),\n",
       " Document(metadata={'producer': 'GPL Ghostscript 8.15', 'creator': 'PScript5.dll Version 5.2', 'creationdate': 'D:20070730160943', 'moddate': 'D:20070730160943', 'title': 'Microsoft Word - Document1', 'author': 'Shri', 'source': 'apjspeech.pdf', 'total_pages': 7, 'page': 2, 'page_label': '3'}, page_content='of you”. I readily agreed. He sang melodiously the Saint Thyagraj a’s pancha ratna kriti \\nentharo mahanubavulu in Sriragam giving me a glimpse of his talent. I was quite touched. \\nWhat is the message? Despite being physically challenged, the latent talent of music \\ncould blossom in this \\nperson with his positive attitude and perseverance, encouraged by the parents, teachers, \\nacademics and rasikas. Now he wants to give, give and give his art to inspire others. Of \\ncourse, by his merit of music, in July 2007, he performed in the Rashtra pati Bhavan art \\ntheatre. \\n \\nOvercome the impact of disaster through partnership \\nI had the opportunity to experience the Indomitable Spirit of the people and children of \\nJammu & Kashmir even as they were just recovering from the de vastating earthquake in \\n2005. I visited Urusa village on 26th November 2005 which has been adopted by the  \\nWestern Air Command, Air Force for providing relief and medical aid to the residents of \\nthat area. When I went there, I found that the school building had been severely damaged. \\nI met all the school children and the village citizen of Urusa. The villagers apprised me of \\ntheir losses and had all praise for Army and Air Force role in rescue and relief operations \\nalong with state government. I appreciate the courage of the people of Urusa in defeating \\ntheir problems. They have actually become the master of the probl em rather than \\nallowing problems to become their master. Despite the severe l oss due to the earthquake,'),\n",
       " Document(metadata={'producer': 'GPL Ghostscript 8.15', 'creator': 'PScript5.dll Version 5.2', 'creationdate': 'D:20070730160943', 'moddate': 'D:20070730160943', 'title': 'Microsoft Word - Document1', 'author': 'Shri', 'source': 'apjspeech.pdf', 'total_pages': 7, 'page': 3, 'page_label': '4'}, page_content='the children and the members of the village participated in the reli ef operation with the \\nArmed Forces \\nbravely and were smiling when I went to meet them. They interacted with me and said \\nthat the school was functional in the temporary tents. Here, I also witnessed the \\nparticipation of acting Chief Justice of Jammu & Kashmir along with State Government \\nauthorities in on-the-spot settlement of relief grants to be provide d to the victims whose \\nhouses had been damaged in the earth quake. I have experienced many s uch acts of \\ncourage from our citizens when faced with severe challenges. \\n \\nCourage in combating calamities \\nIn 2005, I met the Tribal Council Leaders, Students, Children of Chuckchucha village \\nduring my visit to Car Nicobar Islands. While various reconstruction a nd rehabilitation \\nactivities were in progress, during the discussions with the members  of tribal council, I \\nrealized the unique trait among the Car-Nicobar islanders. Even thoug h there were many \\nhuman losses due to the Tsunami of 26 Dec 2004, the tribal islanders had  taken \\npossession of affected victims as their children and there is nothi ng like orphanage in \\nCar-Nicobar Islands. Touched by their courage, I composed few vers es called “Sea \\nWaves” which reads as follows: \\nSea Waves \\n \\nWe are the children of Sea waves, \\nSea waves are my friends. \\nWhen they become angry, \\nSea waves give the challenges. \\nGod has given the courage, \\nTo challenge the sea waves. \\nAnd we will succeed, \\nWe will succeed \\nWith Almighty’s grace. \\nAll the members who were gathered in the village sang the poem with me and exhibited \\nlots of courage and enthusiasm even though they had gone through severe  suffering \\nduring the Tsunami. \\n \\nConnectivity for societal transformation \\nI addressed the Pan African Parliament on 16 September 2004, at Johannesburg, South \\nAfrica. This was attended by 53 member countries of the Africa n Union, where I'),\n",
       " Document(metadata={'producer': 'GPL Ghostscript 8.15', 'creator': 'PScript5.dll Version 5.2', 'creationdate': 'D:20070730160943', 'moddate': 'D:20070730160943', 'title': 'Microsoft Word - Document1', 'author': 'Shri', 'source': 'apjspeech.pdf', 'total_pages': 7, 'page': 3, 'page_label': '4'}, page_content='human losses due to the Tsunami of 26 Dec 2004, the tribal islanders had  taken \\npossession of affected victims as their children and there is nothi ng like orphanage in \\nCar-Nicobar Islands. Touched by their courage, I composed few vers es called “Sea \\nWaves” which reads as follows: \\nSea Waves \\n \\nWe are the children of Sea waves, \\nSea waves are my friends. \\nWhen they become angry, \\nSea waves give the challenges. \\nGod has given the courage, \\nTo challenge the sea waves. \\nAnd we will succeed, \\nWe will succeed \\nWith Almighty’s grace. \\nAll the members who were gathered in the village sang the poem with me and exhibited \\nlots of courage and enthusiasm even though they had gone through severe  suffering \\nduring the Tsunami. \\n \\nConnectivity for societal transformation \\nI addressed the Pan African Parliament on 16 September 2004, at Johannesburg, South \\nAfrica. This was attended by 53 member countries of the Africa n Union, where I \\nproposed the concept of Pan African e-Network for providing seamless and integrated \\nsatellite, fiber optics and wireless network connecting 53 African countries at an \\nestimated cost of US $ 100 million. \\n \\nAs part of the project 12 universities (7 from India and 5 from Africa), 17 Super \\nSpecialty Hospitals (12 from India and 5 from Africa), 53 tele-me dicine centers and 53 \\ntele-education centres in Africa will be connected. The pilot project on tele-education and \\ntele-medicine in Ethiopia has already been commissioned. Indira Gandh i National Open \\nUniversity has taken up the MBA Course for 34 Ethiopian students of Addis  Ababa and \\nHarmaya Universities. As regards, tele-medicine, the special ists from CARE Hospital,'),\n",
       " Document(metadata={'producer': 'GPL Ghostscript 8.15', 'creator': 'PScript5.dll Version 5.2', 'creationdate': 'D:20070730160943', 'moddate': 'D:20070730160943', 'title': 'Microsoft Word - Document1', 'author': 'Shri', 'source': 'apjspeech.pdf', 'total_pages': 7, 'page': 4, 'page_label': '5'}, page_content='Hyderabad are providing one-hour live tele-consultation to doctors in B lack Lion \\nHospital, Addis Ababa in Cardiology and Radiology since November 2006. Using the \\nPan African network the Heads of the State in all the 53 countries  will be connected for \\ninstant communication. I am extremely happy that Indian experience  in bringing the \\nbenefits of technology to the people has enabled us to work with Afric a to bring societal \\ntransformation in the African continent. \\n \\nDefending the nation: Our pride \\nI visited KUMAR in Siachen Glacier located at 17,000 feet altitude held by the Indian \\nArmy, had a memorable underwater journey in INS Sindhurakshak and flew  in a Sukhoi-\\n30 fighter experiencing 2.5 g. In these three experiences, I personal ly felt proud of our \\never vigilant Soldiers, Sailors and Air Warriors performing their  tasks beyond the call of \\ntheir duty even in the most adverse circumstances natural and man m ade. During the last \\nfive years, I had an opportunity to present colours to many regime nts, participate in \\nnumber of passing out parades, meet the troops who were going to undertake  peace \\nmissions and interact with the family members of our Defence F orces. Our Defence \\nForces are in a beautiful mission. When the nation sleeps during night , Members of our \\nDefence teams are awake to guard us and remain vigilant to counte r any threat. The \\nNation cherishes the valour, commitment and devotion to duty of our Defenc e Forces. \\nSimilarly, I had opportunities to interact \\nwith members of our para-military forces, central and state police personnel including \\ninternal security forces who are making immense contribution in au gmenting the safety \\nand security of our citizens under difficult conditions. \\n \\nYouth movement for Developed India 2020 \\nRecently, in Hyderabad, I met a group of citizens who are putting into practice the motto \\nof transforming of our youth into enlightened citizen. The Lead India 2020 Found ation'),\n",
       " Document(metadata={'producer': 'GPL Ghostscript 8.15', 'creator': 'PScript5.dll Version 5.2', 'creationdate': 'D:20070730160943', 'moddate': 'D:20070730160943', 'title': 'Microsoft Word - Document1', 'author': 'Shri', 'source': 'apjspeech.pdf', 'total_pages': 7, 'page': 4, 'page_label': '5'}, page_content='number of passing out parades, meet the troops who were going to undertake  peace \\nmissions and interact with the family members of our Defence F orces. Our Defence \\nForces are in a beautiful mission. When the nation sleeps during night , Members of our \\nDefence teams are awake to guard us and remain vigilant to counte r any threat. The \\nNation cherishes the valour, commitment and devotion to duty of our Defenc e Forces. \\nSimilarly, I had opportunities to interact \\nwith members of our para-military forces, central and state police personnel including \\ninternal security forces who are making immense contribution in au gmenting the safety \\nand security of our citizens under difficult conditions. \\n \\nYouth movement for Developed India 2020 \\nRecently, in Hyderabad, I met a group of citizens who are putting into practice the motto \\nof transforming of our youth into enlightened citizen. The Lead India 2020 Found ation \\ncreated by Dr. N.B. Sudershan at Hyderabad is training thousands of s tudents in many \\ndistricts of Andhra Pradesh in partnership with the District Adm inistration. Particularly, I \\nhappened to know the transformation which has taken place among the students  of \\nMedak district. As per the district authorities the impact of the  training on the students is \\nvisible in terms of self-discipline, love for their parents and tea chers shedding of stage \\nfear and recognition of their duties towards the nation. I talke d to Ms. Padma, a student \\nleader from Andhra Pradesh Tribal Welfare School, Nalgonda who relat ed how she \\nweaned her father away from smoking after imbibing the spirit of  the 10 point oath from \\nthe Lead India Training Camp. This gives me an assurance that the  youth of our country \\nare on the right path \\nthrough this mission oriented programme. With the ignited minds of the 540 million \\nyouth below the age of 25, which I consider is the most powerful resour ce on the earth,'),\n",
       " Document(metadata={'producer': 'GPL Ghostscript 8.15', 'creator': 'PScript5.dll Version 5.2', 'creationdate': 'D:20070730160943', 'moddate': 'D:20070730160943', 'title': 'Microsoft Word - Document1', 'author': 'Shri', 'source': 'apjspeech.pdf', 'total_pages': 7, 'page': 4, 'page_label': '5'}, page_content='districts of Andhra Pradesh in partnership with the District Adm inistration. Particularly, I \\nhappened to know the transformation which has taken place among the students  of \\nMedak district. As per the district authorities the impact of the  training on the students is \\nvisible in terms of self-discipline, love for their parents and tea chers shedding of stage \\nfear and recognition of their duties towards the nation. I talke d to Ms. Padma, a student \\nleader from Andhra Pradesh Tribal Welfare School, Nalgonda who relat ed how she \\nweaned her father away from smoking after imbibing the spirit of  the 10 point oath from \\nthe Lead India Training Camp. This gives me an assurance that the  youth of our country \\nare on the right path \\nthrough this mission oriented programme. With the ignited minds of the 540 million \\nyouth below the age of 25, which I consider is the most powerful resour ce on the earth, \\nunder the earth and above the earth, we have to empower the youth through va lue based \\neducation and leadership. \\n \\nConclusion \\nI was touched by the variety of Indian panorama, emotional content of the tune, cultural \\ndiversity and unity of minds in the vast land of ours. I have cited thes e examples just to \\ngive a glimpse of the richness of our tradition and effort being taken by different agencies'),\n",
       " Document(metadata={'producer': 'GPL Ghostscript 8.15', 'creator': 'PScript5.dll Version 5.2', 'creationdate': 'D:20070730160943', 'moddate': 'D:20070730160943', 'title': 'Microsoft Word - Document1', 'author': 'Shri', 'source': 'apjspeech.pdf', 'total_pages': 7, 'page': 5, 'page_label': '6'}, page_content='to preserve it. There are also many new adventures by instituti ons and individuals. I have \\nexperienced many of them and learnt a lot about my country and our peopl e. Even while \\npursuing our economic growth, we need to do a lot to preserve the rich and diverse \\ntreasures of our culture and civilization. It is our duty for our fut ure generations. This has \\nto be done in a much larger scale through countrywide participatio n of multiple \\ninstitutions. Our country is blessed with natural resources, has shown c onsiderable \\nprogress in the last sixty years, and above all we have hard wor king people particularly \\nthe power of the 540 million youth of the country. Every sector of our count ry has given \\nme the \\nconfidence that India can become a developed nation well before 2020. Whomsoever, I \\nmet they constantly ask what they can give to the nation. We should c onstantly strive to \\nempower such members of the society. With this spirit, I am extr emely happy that we are \\non the right path. Here I am reminded of a famous poem: \\n\"When you wish upon a star, \\nMakes no difference who you are, \\nAnything your heart desires, \\nWill come to you” \\nThis poem is true to all of us, and particularly for our youth and if they aim great, I am \\nsure they will reach close to the target or the target. \\n \\nMy dear citizens, let us resolve to continue to work for realizing the missions of \\ndeveloped India 2020 with the following distinctive profile. \\n \\n1. A Nation where the rural and urban divide has reduced to a thin line. \\n \\n2. A Nation where there is an equitable distribution and adequate access to energy and \\nquality water. \\n \\n3. A Nation where agriculture, industry and service sector work together in symphony. \\n \\n4. A Nation where education with value system is not denied to any meritorious \\ncandidates because of societal or economic discrimination. \\n \\n5. A Nation which is the best destination for the most talented scholars, scientists, and \\ninvestors.'),\n",
       " Document(metadata={'producer': 'GPL Ghostscript 8.15', 'creator': 'PScript5.dll Version 5.2', 'creationdate': 'D:20070730160943', 'moddate': 'D:20070730160943', 'title': 'Microsoft Word - Document1', 'author': 'Shri', 'source': 'apjspeech.pdf', 'total_pages': 7, 'page': 5, 'page_label': '6'}, page_content='on the right path. Here I am reminded of a famous poem: \\n\"When you wish upon a star, \\nMakes no difference who you are, \\nAnything your heart desires, \\nWill come to you” \\nThis poem is true to all of us, and particularly for our youth and if they aim great, I am \\nsure they will reach close to the target or the target. \\n \\nMy dear citizens, let us resolve to continue to work for realizing the missions of \\ndeveloped India 2020 with the following distinctive profile. \\n \\n1. A Nation where the rural and urban divide has reduced to a thin line. \\n \\n2. A Nation where there is an equitable distribution and adequate access to energy and \\nquality water. \\n \\n3. A Nation where agriculture, industry and service sector work together in symphony. \\n \\n4. A Nation where education with value system is not denied to any meritorious \\ncandidates because of societal or economic discrimination. \\n \\n5. A Nation which is the best destination for the most talented scholars, scientists, and \\ninvestors. \\n \\n6. A Nation where the best of health care is available to all. \\n \\n7. A Nation where the governance is responsive, transparent and corruption free. \\n \\n8. A Nation where poverty has been totally eradicated, illiteracy removed and crimes \\nagainst women and children are absent and none in the society feels alienated. \\n \\n9. A Nation that is prosperous, healthy, secure, peaceful and happy and continues with a \\nsustainable growth path.'),\n",
       " Document(metadata={'producer': 'GPL Ghostscript 8.15', 'creator': 'PScript5.dll Version 5.2', 'creationdate': 'D:20070730160943', 'moddate': 'D:20070730160943', 'title': 'Microsoft Word - Document1', 'author': 'Shri', 'source': 'apjspeech.pdf', 'total_pages': 7, 'page': 6, 'page_label': '7'}, page_content='10. A Nation that is one of the best places to live in and is proud of its leadership. \\n \\nFinally let me thank each one of you for showering your love and affection on me \\nthroughout the last five years by your cooperation and support. \\n \\nDear Citizens, I conclude my address by sharing with you my mission in life which is to \\nbring connectivity between billion hearts and minds of the people of Indi a in our \\nmulticultural society and to embed the self confidence that \"we c an do it\". I will be \\nalways with you, dear citizens, in the great mission of making Indi a a developed nation \\nbefore 2020. \\n \\nMay God bless you. \\n \\nJai hind. \\nDr. A. P. J. Abdul Kalam \\nwww.presidentofindia.nic.in')]"
      ]
     },
     "execution_count": 34,
     "metadata": {},
     "output_type": "execute_result"
    }
   ],
   "source": [
    "final_documents = RecursiveCharacterTextSplitter(chunk_size = 2000,chunk_overlap = 1000).split_documents(docs)\n",
    "final_documents"
   ]
  },
  {
   "cell_type": "code",
   "execution_count": 35,
   "id": "fd265d4f",
   "metadata": {},
   "outputs": [
    {
     "data": {
      "text/plain": [
       "16"
      ]
     },
     "execution_count": 35,
     "metadata": {},
     "output_type": "execute_result"
    }
   ],
   "source": [
    "len(final_documents)"
   ]
  },
  {
   "cell_type": "code",
   "execution_count": 36,
   "id": "87faf928",
   "metadata": {},
   "outputs": [
    {
     "data": {
      "text/plain": [
       "PromptTemplate(input_variables=['text'], input_types={}, partial_variables={}, template=' write a concise short summary of the following speech,\\nSpeech: {text}\\n\\n')"
      ]
     },
     "execution_count": 36,
     "metadata": {},
     "output_type": "execute_result"
    }
   ],
   "source": [
    "prompt"
   ]
  },
  {
   "cell_type": "code",
   "execution_count": 40,
   "id": "87cb3d1a",
   "metadata": {},
   "outputs": [],
   "source": [
    "chunks_prompt = \"\"\"\n",
    "please summarize the following text:\n",
    "Speech: '{text}'\n",
    "SUMMARY:\n",
    "\"\"\"\n",
    "\n",
    "map_prompt_template = PromptTemplate(input_variables=['text'], template=chunks_prompt)\n"
   ]
  },
  {
   "cell_type": "code",
   "execution_count": 42,
   "id": "ff8bc8e8",
   "metadata": {},
   "outputs": [
    {
     "data": {
      "text/plain": [
       "PromptTemplate(input_variables=['text'], input_types={}, partial_variables={}, template='\\nProvide the final summary of the entire speech with these important points.\\nAdd a Motivation Title,Start the precise summary with an introduction and provide the summary in number \\npoints for the speech.\\nSpeech:{text}\\n')"
      ]
     },
     "execution_count": 42,
     "metadata": {},
     "output_type": "execute_result"
    }
   ],
   "source": [
    "Final_prompt = \"\"\"\n",
    "Provide the final summary of the entire speech with these important points.\n",
    "Add a Motivation Title,Start the precise summary with an introduction and provide the summary in number \n",
    "points for the speech.\n",
    "Speech:{text}\n",
    "\"\"\"\n",
    "Final_prompt = PromptTemplate(input_variables=['text'], template=Final_prompt)\n",
    "Final_prompt"
   ]
  },
  {
   "cell_type": "code",
   "execution_count": null,
   "id": "d4b2187f",
   "metadata": {},
   "outputs": [
    {
     "name": "stdout",
     "output_type": "stream",
     "text": [
      "\n",
      "\n",
      "\u001b[1m> Entering new MapReduceDocumentsChain chain...\u001b[0m\n",
      "\n",
      "\n",
      "\u001b[1m> Entering new LLMChain chain...\u001b[0m\n",
      "Prompt after formatting:\n",
      "\u001b[32;1m\u001b[1;3m\n",
      "please summarize the following text:\n",
      "Speech: 'A P J Abdul Kalam Departing speech \n",
      " \n",
      " \n",
      "Friends, I am delighted to address you all, in the country and those living abroad, after \n",
      "working with you and completing five beautiful and eventful years in Rashtrapati \n",
      "Bhavan. Today, it is indeed a thanks giving occasion. I would like to narr ate, how I \n",
      "enjoyed every minute of my tenure enriched by the wonderful assoc iation from each one \n",
      "of you, hailing from different walks of life, be it politics, sci ence and technology, \n",
      "academics, arts, literature, business, judiciary, administration, local bodies, farming, \n",
      "home makers, special children, media and above all from the youth and st udent \n",
      "community who are the future wealth of our country. During my intera ction at \n",
      "Rashtrapati Bhavan in Delhi and at every state and union territor y as well as through my \n",
      "online interactions, I have many unique experiences to share with you, which signify the \n",
      "following important messages: \n",
      " \n",
      "1. Accelerate development : Aspiration of the youth, \n",
      " \n",
      "2. Empower villages, \n",
      " \n",
      "3. Mobilize rural core competence for competitiveness, \n",
      " \n",
      "4. Seed to Food: Backbone for agricultural growth \n",
      " \n",
      "5. Defeat problems and succeed, \n",
      " \n",
      "6. Overcome problems through partnership, \n",
      " \n",
      "7. Courage in combating calamities, \n",
      " \n",
      "8. Connectivity for societal transformation, \n",
      " \n",
      "9. Defending the nation: Our pride and \n",
      " \n",
      "10. Youth movement for Developed India 2020. \n",
      " \n",
      "Now let me share with you each of the messages. \n",
      " \n",
      "Accelerate Development: Aspiration of the youth \n",
      "While there were many significant events during my tenure, a question from a little girl \n",
      "Anukriti of Sri Sathya Sai Jagriti Vidya Mandir School, of Dar wa village from Haryana, \n",
      "during children’s visit to Rashtrapati Bhavan on May 22, 2006, rings in my  mind ever \n",
      "after. \n",
      " \n",
      "Anukriti asked me “why India cannot become a developed nation before the year 2020”. I \n",
      "appreciated the question and said it was indeed a thoughtful question and assured her that'\n",
      "SUMMARY:\n",
      "\u001b[0m\n",
      "Prompt after formatting:\n",
      "\u001b[32;1m\u001b[1;3m\n",
      "please summarize the following text:\n",
      "Speech: '2. Empower villages, \n",
      " \n",
      "3. Mobilize rural core competence for competitiveness, \n",
      " \n",
      "4. Seed to Food: Backbone for agricultural growth \n",
      " \n",
      "5. Defeat problems and succeed, \n",
      " \n",
      "6. Overcome problems through partnership, \n",
      " \n",
      "7. Courage in combating calamities, \n",
      " \n",
      "8. Connectivity for societal transformation, \n",
      " \n",
      "9. Defending the nation: Our pride and \n",
      " \n",
      "10. Youth movement for Developed India 2020. \n",
      " \n",
      "Now let me share with you each of the messages. \n",
      " \n",
      "Accelerate Development: Aspiration of the youth \n",
      "While there were many significant events during my tenure, a question from a little girl \n",
      "Anukriti of Sri Sathya Sai Jagriti Vidya Mandir School, of Dar wa village from Haryana, \n",
      "during children’s visit to Rashtrapati Bhavan on May 22, 2006, rings in my  mind ever \n",
      "after. \n",
      " \n",
      "Anukriti asked me “why India cannot become a developed nation before the year 2020”. I \n",
      "appreciated the question and said it was indeed a thoughtful question and assured her that \n",
      "that her dream would be taken to the highest institution of the nation and we would work'\n",
      "SUMMARY:\n",
      "\u001b[0m\n",
      "Prompt after formatting:\n",
      "\u001b[32;1m\u001b[1;3m\n",
      "please summarize the following text:\n",
      "Speech: 'for it to achieve before 2020. This question reflects how the desire t o live in developed \n",
      "India has entered into the minds of the youth. The same feelings are  echoed by over \n",
      "fifteen lakh youth, whom I have met so far and who represent the drea m of the 540 \n",
      "million youth of the nation. The aspirations of the young to live in a prosperous, safe and \n",
      "proud India should be the guiding factor in whatever profession we contribute. \n",
      " \n",
      "Empower Villages \n",
      "Friends, I recall my visit to Nagaland on 26th October 2002, soon after my assuming \n",
      "office as President. It was a unique experience for me at Khuza ma village to meet tribal \n",
      "village council members and discuss with them the village progress  and the dream of \n",
      "village citizens. I was very happy to see the empowered village  council functioning with \n",
      "financial powers and taking decisions. I saw a prosperous village with fruits and \n",
      "vegetables production. However, there is a need for providing physical c onnectivity in \n",
      "Nagaland through quality roads for enabling faster movement of produ cts from villages \n",
      "to the market. That meeting gave me a powerful message about the t ransformation which \n",
      "can take place to the 600,000 villages of India, if all the villages a re empowered to deal \n",
      "with their development and are well connected among themselves and wit h the urban \n",
      "societies. \n",
      " \n",
      "Mobilizing rural core competence for competitiveness \n",
      "Now I would like to talk about the initiative of Periyar Maniammai College of \n",
      "Technology for Women, Vallam, Tanjore of Providing Urban Amenities in Rural Areas \n",
      "(PURA) complex involving 65 villages with a population of 3 lakhs. This inc ludes \n",
      "provision of three connectivities - physical, electronic and knowledge  - leading to \n",
      "economic connectivity. Periyar PURA has health care centers, pr imary to post graduate \n",
      "level education and vocational training centers. This has resulted i n large-scale \n",
      "employment generation and creation of number of entrepreneurs with the  active support'\n",
      "SUMMARY:\n",
      "\u001b[0m\n",
      "Prompt after formatting:\n",
      "\u001b[32;1m\u001b[1;3m\n",
      "please summarize the following text:\n",
      "Speech: 'to the market. That meeting gave me a powerful message about the t ransformation which \n",
      "can take place to the 600,000 villages of India, if all the villages a re empowered to deal \n",
      "with their development and are well connected among themselves and wit h the urban \n",
      "societies. \n",
      " \n",
      "Mobilizing rural core competence for competitiveness \n",
      "Now I would like to talk about the initiative of Periyar Maniammai College of \n",
      "Technology for Women, Vallam, Tanjore of Providing Urban Amenities in Rural Areas \n",
      "(PURA) complex involving 65 villages with a population of 3 lakhs. This inc ludes \n",
      "provision of three connectivities - physical, electronic and knowledge  - leading to \n",
      "economic connectivity. Periyar PURA has health care centers, pr imary to post graduate \n",
      "level education and vocational training centers. This has resulted i n large-scale \n",
      "employment generation and creation of number of entrepreneurs with the  active support \n",
      "of 1000 self-help groups. Two hundred acres of waste land has been develope d into a \n",
      "cultivable land. The villagers are busy in cultivation, planting Jatropha, herbal and \n",
      "medicinal plants, power generation using bio-mass, food processing and above all \n",
      "running marketing centers. It provides a sustainable economic development model for the \n",
      "whole region. \n",
      " \n",
      "During the last eight months, people of Periyar PURA villages technologically supported \n",
      "by Periyar Maniammai College of Engineering for Women have w orked with experts \n",
      "from Japan External Trade Organisation (JETRO) on various products, for  which core \n",
      "competence and raw material are available in Thanjavur district. They developed \n",
      "internationally competitive prototypes for 55 life style products wi th support of JETRO \n",
      "specialists and feedback from exhibitions at Delhi and Tokyo. This co -operative venture \n",
      "has enhanced the innovative ability of the people of all the 65 villages  enabling them to \n",
      "develop and produce internationally acceptable products. I have seen si milar type of'\n",
      "SUMMARY:\n",
      "\u001b[0m\n",
      "Prompt after formatting:\n",
      "\u001b[32;1m\u001b[1;3m\n",
      "please summarize the following text:\n",
      "Speech: 'cultivable land. The villagers are busy in cultivation, planting Jatropha, herbal and \n",
      "medicinal plants, power generation using bio-mass, food processing and above all \n",
      "running marketing centers. It provides a sustainable economic development model for the \n",
      "whole region. \n",
      " \n",
      "During the last eight months, people of Periyar PURA villages technologically supported \n",
      "by Periyar Maniammai College of Engineering for Women have w orked with experts \n",
      "from Japan External Trade Organisation (JETRO) on various products, for  which core \n",
      "competence and raw material are available in Thanjavur district. They developed \n",
      "internationally competitive prototypes for 55 life style products wi th support of JETRO \n",
      "specialists and feedback from exhibitions at Delhi and Tokyo. This co -operative venture \n",
      "has enhanced the innovative ability of the people of all the 65 villages  enabling them to \n",
      "develop and produce internationally acceptable products. I have seen si milar type of \n",
      "PURA being established in many states. The whole country needs 7000 PU RA to \n",
      "bridging the rural – urban divide. \n",
      " \n",
      "Seed to Food: Backbone for agricultural growth'\n",
      "SUMMARY:\n",
      "\u001b[0m\n",
      "Prompt after formatting:\n",
      "\u001b[32;1m\u001b[1;3m\n",
      "please summarize the following text:\n",
      "Speech: 'Let me now share with you, the enriching experience I had, whil e meeting more than \n",
      "6000 farmers from different States and Union Territories visitin g Rashtrapati Bhavan. \n",
      "They evinced keen interest in the Mughal Gardens, the Herbal Gardens , the Spiritual \n",
      "Garden, the Musical Garden, the Bio-diesel garden and the Nutrition Garden and interact \n",
      "with the Horticultural specialists. Recently, during my address to the agricultural \n",
      "scientists while participating in a National Symposium on “Agri culture Cannot Wait”, I \n",
      "summarized the many practical suggestions given by farmers. W e have to double the \n",
      "agricultural production with reduced land, reduced water resources and re duced \n",
      "manpower and improve the economic conditions of the nation through the principle  of \n",
      "“Seed to Food” since agriculture is the backbone of the nation. We should em power the \n",
      "farmers to protect and nurture the fertile land for second green re volution. Meeting the \n",
      "Scientists and the Farmers has given me the confidence \n",
      "that the nation is poised to increase the agricultural GDP growth by atleast 4% per annum \n",
      "through the partnership of farmers and agricultural scientists a nd industries particularly \n",
      "for value addition. \n",
      " \n",
      "Defeat the problems and succeed \n",
      "On the evening of February 24, 2007, at Coimbatore, I had a very beautiful experience. \n",
      "As I got ready for meeting the first person out of twenty appoint ments, a wheel chair was \n",
      "in sight with a smiling person probably in his late fifties; unfortunately he has no hands \n",
      "and legs. His radiant face was revealing his happy state of mi nd. He introduced himself \n",
      "as Vidwan Coimbatore SR Krishna Murthy. I greeted him and asked him  how this had \n",
      "happened. He smilingly said that it was from by birth. He thanked G od, his parents, \n",
      "teachers and many others for giving him confidence, training and he lp. I asked him, what \n",
      "I could do for him? He said, “I don’t need anything from you. I would like to sing in fr ont'\n",
      "SUMMARY:\n",
      "\u001b[0m\n",
      "Prompt after formatting:\n",
      "\u001b[32;1m\u001b[1;3m\n",
      "please summarize the following text:\n",
      "Speech: 'that the nation is poised to increase the agricultural GDP growth by atleast 4% per annum \n",
      "through the partnership of farmers and agricultural scientists a nd industries particularly \n",
      "for value addition. \n",
      " \n",
      "Defeat the problems and succeed \n",
      "On the evening of February 24, 2007, at Coimbatore, I had a very beautiful experience. \n",
      "As I got ready for meeting the first person out of twenty appoint ments, a wheel chair was \n",
      "in sight with a smiling person probably in his late fifties; unfortunately he has no hands \n",
      "and legs. His radiant face was revealing his happy state of mi nd. He introduced himself \n",
      "as Vidwan Coimbatore SR Krishna Murthy. I greeted him and asked him  how this had \n",
      "happened. He smilingly said that it was from by birth. He thanked G od, his parents, \n",
      "teachers and many others for giving him confidence, training and he lp. I asked him, what \n",
      "I could do for him? He said, “I don’t need anything from you. I would like to sing in fr ont \n",
      "of you”. I readily agreed. He sang melodiously the Saint Thyagraj a’s pancha ratna kriti \n",
      "entharo mahanubavulu in Sriragam giving me a glimpse of his talent. I was quite touched. \n",
      "What is the message? Despite being physically challenged, the latent talent of music \n",
      "could blossom in this \n",
      "person with his positive attitude and perseverance, encouraged by the parents, teachers, \n",
      "academics and rasikas. Now he wants to give, give and give his art to inspire others. Of \n",
      "course, by his merit of music, in July 2007, he performed in the Rashtra pati Bhavan art \n",
      "theatre. \n",
      " \n",
      "Overcome the impact of disaster through partnership \n",
      "I had the opportunity to experience the Indomitable Spirit of the people and children of \n",
      "Jammu & Kashmir even as they were just recovering from the de vastating earthquake in \n",
      "2005. I visited Urusa village on 26th November 2005 which has been adopted by the  \n",
      "Western Air Command, Air Force for providing relief and medical aid to the residents of'\n",
      "SUMMARY:\n",
      "\u001b[0m\n",
      "Prompt after formatting:\n",
      "\u001b[32;1m\u001b[1;3m\n",
      "please summarize the following text:\n",
      "Speech: 'of you”. I readily agreed. He sang melodiously the Saint Thyagraj a’s pancha ratna kriti \n",
      "entharo mahanubavulu in Sriragam giving me a glimpse of his talent. I was quite touched. \n",
      "What is the message? Despite being physically challenged, the latent talent of music \n",
      "could blossom in this \n",
      "person with his positive attitude and perseverance, encouraged by the parents, teachers, \n",
      "academics and rasikas. Now he wants to give, give and give his art to inspire others. Of \n",
      "course, by his merit of music, in July 2007, he performed in the Rashtra pati Bhavan art \n",
      "theatre. \n",
      " \n",
      "Overcome the impact of disaster through partnership \n",
      "I had the opportunity to experience the Indomitable Spirit of the people and children of \n",
      "Jammu & Kashmir even as they were just recovering from the de vastating earthquake in \n",
      "2005. I visited Urusa village on 26th November 2005 which has been adopted by the  \n",
      "Western Air Command, Air Force for providing relief and medical aid to the residents of \n",
      "that area. When I went there, I found that the school building had been severely damaged. \n",
      "I met all the school children and the village citizen of Urusa. The villagers apprised me of \n",
      "their losses and had all praise for Army and Air Force role in rescue and relief operations \n",
      "along with state government. I appreciate the courage of the people of Urusa in defeating \n",
      "their problems. They have actually become the master of the probl em rather than \n",
      "allowing problems to become their master. Despite the severe l oss due to the earthquake,'\n",
      "SUMMARY:\n",
      "\u001b[0m\n",
      "Prompt after formatting:\n",
      "\u001b[32;1m\u001b[1;3m\n",
      "please summarize the following text:\n",
      "Speech: 'the children and the members of the village participated in the reli ef operation with the \n",
      "Armed Forces \n",
      "bravely and were smiling when I went to meet them. They interacted with me and said \n",
      "that the school was functional in the temporary tents. Here, I also witnessed the \n",
      "participation of acting Chief Justice of Jammu & Kashmir along with State Government \n",
      "authorities in on-the-spot settlement of relief grants to be provide d to the victims whose \n",
      "houses had been damaged in the earth quake. I have experienced many s uch acts of \n",
      "courage from our citizens when faced with severe challenges. \n",
      " \n",
      "Courage in combating calamities \n",
      "In 2005, I met the Tribal Council Leaders, Students, Children of Chuckchucha village \n",
      "during my visit to Car Nicobar Islands. While various reconstruction a nd rehabilitation \n",
      "activities were in progress, during the discussions with the members  of tribal council, I \n",
      "realized the unique trait among the Car-Nicobar islanders. Even thoug h there were many \n",
      "human losses due to the Tsunami of 26 Dec 2004, the tribal islanders had  taken \n",
      "possession of affected victims as their children and there is nothi ng like orphanage in \n",
      "Car-Nicobar Islands. Touched by their courage, I composed few vers es called “Sea \n",
      "Waves” which reads as follows: \n",
      "Sea Waves \n",
      " \n",
      "We are the children of Sea waves, \n",
      "Sea waves are my friends. \n",
      "When they become angry, \n",
      "Sea waves give the challenges. \n",
      "God has given the courage, \n",
      "To challenge the sea waves. \n",
      "And we will succeed, \n",
      "We will succeed \n",
      "With Almighty’s grace. \n",
      "All the members who were gathered in the village sang the poem with me and exhibited \n",
      "lots of courage and enthusiasm even though they had gone through severe  suffering \n",
      "during the Tsunami. \n",
      " \n",
      "Connectivity for societal transformation \n",
      "I addressed the Pan African Parliament on 16 September 2004, at Johannesburg, South \n",
      "Africa. This was attended by 53 member countries of the Africa n Union, where I'\n",
      "SUMMARY:\n",
      "\u001b[0m\n",
      "Prompt after formatting:\n",
      "\u001b[32;1m\u001b[1;3m\n",
      "please summarize the following text:\n",
      "Speech: 'human losses due to the Tsunami of 26 Dec 2004, the tribal islanders had  taken \n",
      "possession of affected victims as their children and there is nothi ng like orphanage in \n",
      "Car-Nicobar Islands. Touched by their courage, I composed few vers es called “Sea \n",
      "Waves” which reads as follows: \n",
      "Sea Waves \n",
      " \n",
      "We are the children of Sea waves, \n",
      "Sea waves are my friends. \n",
      "When they become angry, \n",
      "Sea waves give the challenges. \n",
      "God has given the courage, \n",
      "To challenge the sea waves. \n",
      "And we will succeed, \n",
      "We will succeed \n",
      "With Almighty’s grace. \n",
      "All the members who were gathered in the village sang the poem with me and exhibited \n",
      "lots of courage and enthusiasm even though they had gone through severe  suffering \n",
      "during the Tsunami. \n",
      " \n",
      "Connectivity for societal transformation \n",
      "I addressed the Pan African Parliament on 16 September 2004, at Johannesburg, South \n",
      "Africa. This was attended by 53 member countries of the Africa n Union, where I \n",
      "proposed the concept of Pan African e-Network for providing seamless and integrated \n",
      "satellite, fiber optics and wireless network connecting 53 African countries at an \n",
      "estimated cost of US $ 100 million. \n",
      " \n",
      "As part of the project 12 universities (7 from India and 5 from Africa), 17 Super \n",
      "Specialty Hospitals (12 from India and 5 from Africa), 53 tele-me dicine centers and 53 \n",
      "tele-education centres in Africa will be connected. The pilot project on tele-education and \n",
      "tele-medicine in Ethiopia has already been commissioned. Indira Gandh i National Open \n",
      "University has taken up the MBA Course for 34 Ethiopian students of Addis  Ababa and \n",
      "Harmaya Universities. As regards, tele-medicine, the special ists from CARE Hospital,'\n",
      "SUMMARY:\n",
      "\u001b[0m\n",
      "Prompt after formatting:\n",
      "\u001b[32;1m\u001b[1;3m\n",
      "please summarize the following text:\n",
      "Speech: 'Hyderabad are providing one-hour live tele-consultation to doctors in B lack Lion \n",
      "Hospital, Addis Ababa in Cardiology and Radiology since November 2006. Using the \n",
      "Pan African network the Heads of the State in all the 53 countries  will be connected for \n",
      "instant communication. I am extremely happy that Indian experience  in bringing the \n",
      "benefits of technology to the people has enabled us to work with Afric a to bring societal \n",
      "transformation in the African continent. \n",
      " \n",
      "Defending the nation: Our pride \n",
      "I visited KUMAR in Siachen Glacier located at 17,000 feet altitude held by the Indian \n",
      "Army, had a memorable underwater journey in INS Sindhurakshak and flew  in a Sukhoi-\n",
      "30 fighter experiencing 2.5 g. In these three experiences, I personal ly felt proud of our \n",
      "ever vigilant Soldiers, Sailors and Air Warriors performing their  tasks beyond the call of \n",
      "their duty even in the most adverse circumstances natural and man m ade. During the last \n",
      "five years, I had an opportunity to present colours to many regime nts, participate in \n",
      "number of passing out parades, meet the troops who were going to undertake  peace \n",
      "missions and interact with the family members of our Defence F orces. Our Defence \n",
      "Forces are in a beautiful mission. When the nation sleeps during night , Members of our \n",
      "Defence teams are awake to guard us and remain vigilant to counte r any threat. The \n",
      "Nation cherishes the valour, commitment and devotion to duty of our Defenc e Forces. \n",
      "Similarly, I had opportunities to interact \n",
      "with members of our para-military forces, central and state police personnel including \n",
      "internal security forces who are making immense contribution in au gmenting the safety \n",
      "and security of our citizens under difficult conditions. \n",
      " \n",
      "Youth movement for Developed India 2020 \n",
      "Recently, in Hyderabad, I met a group of citizens who are putting into practice the motto \n",
      "of transforming of our youth into enlightened citizen. The Lead India 2020 Found ation'\n",
      "SUMMARY:\n",
      "\u001b[0m\n",
      "Prompt after formatting:\n",
      "\u001b[32;1m\u001b[1;3m\n",
      "please summarize the following text:\n",
      "Speech: 'number of passing out parades, meet the troops who were going to undertake  peace \n",
      "missions and interact with the family members of our Defence F orces. Our Defence \n",
      "Forces are in a beautiful mission. When the nation sleeps during night , Members of our \n",
      "Defence teams are awake to guard us and remain vigilant to counte r any threat. The \n",
      "Nation cherishes the valour, commitment and devotion to duty of our Defenc e Forces. \n",
      "Similarly, I had opportunities to interact \n",
      "with members of our para-military forces, central and state police personnel including \n",
      "internal security forces who are making immense contribution in au gmenting the safety \n",
      "and security of our citizens under difficult conditions. \n",
      " \n",
      "Youth movement for Developed India 2020 \n",
      "Recently, in Hyderabad, I met a group of citizens who are putting into practice the motto \n",
      "of transforming of our youth into enlightened citizen. The Lead India 2020 Found ation \n",
      "created by Dr. N.B. Sudershan at Hyderabad is training thousands of s tudents in many \n",
      "districts of Andhra Pradesh in partnership with the District Adm inistration. Particularly, I \n",
      "happened to know the transformation which has taken place among the students  of \n",
      "Medak district. As per the district authorities the impact of the  training on the students is \n",
      "visible in terms of self-discipline, love for their parents and tea chers shedding of stage \n",
      "fear and recognition of their duties towards the nation. I talke d to Ms. Padma, a student \n",
      "leader from Andhra Pradesh Tribal Welfare School, Nalgonda who relat ed how she \n",
      "weaned her father away from smoking after imbibing the spirit of  the 10 point oath from \n",
      "the Lead India Training Camp. This gives me an assurance that the  youth of our country \n",
      "are on the right path \n",
      "through this mission oriented programme. With the ignited minds of the 540 million \n",
      "youth below the age of 25, which I consider is the most powerful resour ce on the earth,'\n",
      "SUMMARY:\n",
      "\u001b[0m\n",
      "Prompt after formatting:\n",
      "\u001b[32;1m\u001b[1;3m\n",
      "please summarize the following text:\n",
      "Speech: 'districts of Andhra Pradesh in partnership with the District Adm inistration. Particularly, I \n",
      "happened to know the transformation which has taken place among the students  of \n",
      "Medak district. As per the district authorities the impact of the  training on the students is \n",
      "visible in terms of self-discipline, love for their parents and tea chers shedding of stage \n",
      "fear and recognition of their duties towards the nation. I talke d to Ms. Padma, a student \n",
      "leader from Andhra Pradesh Tribal Welfare School, Nalgonda who relat ed how she \n",
      "weaned her father away from smoking after imbibing the spirit of  the 10 point oath from \n",
      "the Lead India Training Camp. This gives me an assurance that the  youth of our country \n",
      "are on the right path \n",
      "through this mission oriented programme. With the ignited minds of the 540 million \n",
      "youth below the age of 25, which I consider is the most powerful resour ce on the earth, \n",
      "under the earth and above the earth, we have to empower the youth through va lue based \n",
      "education and leadership. \n",
      " \n",
      "Conclusion \n",
      "I was touched by the variety of Indian panorama, emotional content of the tune, cultural \n",
      "diversity and unity of minds in the vast land of ours. I have cited thes e examples just to \n",
      "give a glimpse of the richness of our tradition and effort being taken by different agencies'\n",
      "SUMMARY:\n",
      "\u001b[0m\n",
      "Prompt after formatting:\n",
      "\u001b[32;1m\u001b[1;3m\n",
      "please summarize the following text:\n",
      "Speech: 'to preserve it. There are also many new adventures by instituti ons and individuals. I have \n",
      "experienced many of them and learnt a lot about my country and our peopl e. Even while \n",
      "pursuing our economic growth, we need to do a lot to preserve the rich and diverse \n",
      "treasures of our culture and civilization. It is our duty for our fut ure generations. This has \n",
      "to be done in a much larger scale through countrywide participatio n of multiple \n",
      "institutions. Our country is blessed with natural resources, has shown c onsiderable \n",
      "progress in the last sixty years, and above all we have hard wor king people particularly \n",
      "the power of the 540 million youth of the country. Every sector of our count ry has given \n",
      "me the \n",
      "confidence that India can become a developed nation well before 2020. Whomsoever, I \n",
      "met they constantly ask what they can give to the nation. We should c onstantly strive to \n",
      "empower such members of the society. With this spirit, I am extr emely happy that we are \n",
      "on the right path. Here I am reminded of a famous poem: \n",
      "\"When you wish upon a star, \n",
      "Makes no difference who you are, \n",
      "Anything your heart desires, \n",
      "Will come to you” \n",
      "This poem is true to all of us, and particularly for our youth and if they aim great, I am \n",
      "sure they will reach close to the target or the target. \n",
      " \n",
      "My dear citizens, let us resolve to continue to work for realizing the missions of \n",
      "developed India 2020 with the following distinctive profile. \n",
      " \n",
      "1. A Nation where the rural and urban divide has reduced to a thin line. \n",
      " \n",
      "2. A Nation where there is an equitable distribution and adequate access to energy and \n",
      "quality water. \n",
      " \n",
      "3. A Nation where agriculture, industry and service sector work together in symphony. \n",
      " \n",
      "4. A Nation where education with value system is not denied to any meritorious \n",
      "candidates because of societal or economic discrimination. \n",
      " \n",
      "5. A Nation which is the best destination for the most talented scholars, scientists, and \n",
      "investors.'\n",
      "SUMMARY:\n",
      "\u001b[0m\n",
      "Prompt after formatting:\n",
      "\u001b[32;1m\u001b[1;3m\n",
      "please summarize the following text:\n",
      "Speech: 'on the right path. Here I am reminded of a famous poem: \n",
      "\"When you wish upon a star, \n",
      "Makes no difference who you are, \n",
      "Anything your heart desires, \n",
      "Will come to you” \n",
      "This poem is true to all of us, and particularly for our youth and if they aim great, I am \n",
      "sure they will reach close to the target or the target. \n",
      " \n",
      "My dear citizens, let us resolve to continue to work for realizing the missions of \n",
      "developed India 2020 with the following distinctive profile. \n",
      " \n",
      "1. A Nation where the rural and urban divide has reduced to a thin line. \n",
      " \n",
      "2. A Nation where there is an equitable distribution and adequate access to energy and \n",
      "quality water. \n",
      " \n",
      "3. A Nation where agriculture, industry and service sector work together in symphony. \n",
      " \n",
      "4. A Nation where education with value system is not denied to any meritorious \n",
      "candidates because of societal or economic discrimination. \n",
      " \n",
      "5. A Nation which is the best destination for the most talented scholars, scientists, and \n",
      "investors. \n",
      " \n",
      "6. A Nation where the best of health care is available to all. \n",
      " \n",
      "7. A Nation where the governance is responsive, transparent and corruption free. \n",
      " \n",
      "8. A Nation where poverty has been totally eradicated, illiteracy removed and crimes \n",
      "against women and children are absent and none in the society feels alienated. \n",
      " \n",
      "9. A Nation that is prosperous, healthy, secure, peaceful and happy and continues with a \n",
      "sustainable growth path.'\n",
      "SUMMARY:\n",
      "\u001b[0m\n",
      "Prompt after formatting:\n",
      "\u001b[32;1m\u001b[1;3m\n",
      "please summarize the following text:\n",
      "Speech: '10. A Nation that is one of the best places to live in and is proud of its leadership. \n",
      " \n",
      "Finally let me thank each one of you for showering your love and affection on me \n",
      "throughout the last five years by your cooperation and support. \n",
      " \n",
      "Dear Citizens, I conclude my address by sharing with you my mission in life which is to \n",
      "bring connectivity between billion hearts and minds of the people of Indi a in our \n",
      "multicultural society and to embed the self confidence that \"we c an do it\". I will be \n",
      "always with you, dear citizens, in the great mission of making Indi a a developed nation \n",
      "before 2020. \n",
      " \n",
      "May God bless you. \n",
      " \n",
      "Jai hind. \n",
      "Dr. A. P. J. Abdul Kalam \n",
      "www.presidentofindia.nic.in'\n",
      "SUMMARY:\n",
      "\u001b[0m\n",
      "\n",
      "\u001b[1m> Finished chain.\u001b[0m\n"
     ]
    },
    {
     "name": "stderr",
     "output_type": "stream",
     "text": [
      "Token indices sequence length is longer than the specified maximum sequence length for this model (2768 > 1024). Running this sequence through the model will result in indexing errors\n"
     ]
    },
    {
     "name": "stdout",
     "output_type": "stream",
     "text": [
      "\n",
      "\n",
      "\u001b[1m> Entering new LLMChain chain...\u001b[0m\n",
      "Prompt after formatting:\n",
      "\u001b[32;1m\u001b[1;3m\n",
      "Provide the final summary of the entire speech with these important points.\n",
      "Add a Motivation Title,Start the precise summary with an introduction and provide the summary in number \n",
      "points for the speech.\n",
      "Speech:Here's a summary of the speech:\n",
      "\n",
      "Former President of India, A.P.J. Abdul Kalam, is departing and addressing the nation after completing his 5-year tenure. He expresses gratitude and highlights the key takeaways from his interactions with people from various walks of life. He shares 10 important messages, including:\n",
      "\n",
      "1. Accelerating development to meet the aspirations of the youth\n",
      "2. Empowering villages\n",
      "3. Mobilizing rural resources for competitiveness\n",
      "4. Focusing on agriculture growth from seed to food\n",
      "5. Overcoming problems through determination and partnership\n",
      "6. Building courage to combat calamities\n",
      "7. Improving connectivity for societal transformation\n",
      "8. Defending the nation with pride\n",
      "9. Encouraging a youth movement for a developed India by 2020\n",
      "\n",
      "He recalls a question from a schoolgirl, Anukriti, who asked why India couldn't become a developed nation by 2020, and assures her that it's a goal worth striving for.\n",
      "\n",
      "The text appears to be a speech by a former President of India. The speech outlines 10 key points, including empowering villages, promoting agricultural growth, and defending the nation. \n",
      "\n",
      "The speech also shares a personal anecdote about a question asked by a young girl named Anukriti, who asked why India couldn't become a developed nation by 2020. The speaker appreciated her question and assured her that it would be taken seriously. \n",
      "\n",
      "In summary, the speech seems to focus on themes of national development, youth empowerment, and progress, with a goal of making India a developed nation by 2020.\n",
      "\n",
      "The speaker, likely a President of India, emphasizes the aspirations of India's youth to live in a developed, prosperous, safe, and proud nation. To achieve this, they stress the importance of empowering villages. \n",
      "\n",
      "The speaker shares their experience of visiting a village in Nagaland, where they saw an empowered village council functioning effectively, with a prosperous village producing fruits and vegetables. However, they noted the need for better physical connectivity through quality roads.\n",
      "\n",
      "The speaker then highlights an initiative by Periyar Maniammai College of Technology, which provides urban amenities in rural areas (PURA) to 65 villages with a population of 3 lakhs. This initiative includes physical, electronic, and knowledge connectivity, leading to economic opportunities, employment generation, and entrepreneurship. The goal is to replicate this model across India's 600,000 villages to drive development and competitiveness.\n",
      "\n",
      "The speaker discusses the potential for transformation in India's 600,000 villages through empowerment and connectivity. They highlight the Periyar Maniammai College of Technology for Women's initiative, \"Providing Urban Amenities in Rural Areas\" (PURA), which has positively impacted 65 villages with a population of 3 lakh people. The initiative provides:\n",
      "\n",
      "* Three connectivities: physical, electronic, and knowledge, leading to economic connectivity\n",
      "* Healthcare centers, education, and vocational training\n",
      "* Employment generation and entrepreneurship through 1000 self-help groups\n",
      "* Development of 200 acres of waste land into cultivable land\n",
      "* Sustainable economic development through activities like cultivation, power generation, and food processing\n",
      "\n",
      "The initiative has also collaborated with Japan External Trade Organisation (JETRO) to develop internationally competitive products, resulting in:\n",
      "\n",
      "* 55 lifestyle products with international standards\n",
      "* Enhanced innovative ability of the people in the 65 villages\n",
      "\n",
      "The speaker sees this as a model for sustainable economic development in rural areas.\n",
      "\n",
      "Here is a summary of the text:\n",
      "\n",
      "The Periyar PURA villages have created a sustainable economic development model through various initiatives such as cultivation, bio-mass power generation, and food processing. With the help of experts from Japan External Trade Organisation (JETRO) and Periyar Maniammai College of Engineering for Women, villagers have developed 55 internationally competitive prototypes of lifestyle products. This cooperative venture has enhanced the innovative ability of the people in the 65 villages. The speaker believes that India needs 7,000 PURA initiatives to bridge the rural-urban divide.\n",
      "\n",
      "The text appears to be a speech by a high-ranking government official, likely the President of India. Here's a summary:\n",
      "\n",
      "The speaker shares their experience of meeting over 6,000 farmers from across India at Rashtrapati Bhavan, where they showed interest in various gardens and interacted with horticultural specialists. The speaker emphasizes the importance of agriculture in India's growth and the need to empower farmers to protect fertile land. They express confidence that with the partnership of farmers, scientists, and industries, India can increase its agricultural GDP growth by at least 4% per annum.\n",
      "\n",
      "The speaker then shares a personal anecdote about meeting a man, Vidwan Coimbatore SR Krishna Murthy, who was born without hands and legs but had a positive attitude and a desire to sing. The man thanked those who had helped him and expressed his gratitude, inspiring the speaker.\n",
      "\n",
      "The overall theme of the speech appears to be one of optimism, resilience, and the importance of agriculture and human empowerment in driving India's growth and progress.\n",
      "\n",
      "The text appears to be a collection of inspirational anecdotes and speeches. Here is a summary:\n",
      "\n",
      "**Speech**: The nation aims to increase agricultural GDP growth by at least 4% per annum through partnerships between farmers, scientists, and industries.\n",
      "\n",
      "**Inspirational Stories**:\n",
      "\n",
      "1. **Overcoming physical challenges**: The author met a man, Vidwan Coimbatore SR Krishna Murthy, who was born without hands and legs. Despite his physical limitations, he had a positive attitude and developed a talent for singing, which he used to inspire others.\n",
      "2. **Recovering from disaster**: The author visited Jammu & Kashmir after a devastating earthquake in 2005 and witnessed the resilience and indomitable spirit of the people, particularly children, as they recovered with the help of relief efforts.\n",
      "\n",
      "The overall theme of the text appears to be one of hope, resilience, and overcoming adversity through partnership, positive attitude, and perseverance.\n",
      "\n",
      "The text describes two inspiring stories. \n",
      "\n",
      "**Story 1:** A physically challenged individual, despite his limitations, has a talent for music and performs a beautiful kriti (song). With the support of his parents, teachers, and well-wishers, he has blossomed into a talented musician and wants to share his art to inspire others. He even performed at the Rashtrapati Bhavan (President's House) in 2007.\n",
      "\n",
      "**Story 2:** The author visited Urusa village in Jammu & Kashmir after a devastating earthquake in 2005. Despite the destruction, the villagers, including children, showed courage and resilience. With the help of the Army, Air Force, and state government, they were recovering from their losses. The author praises their indomitable spirit, noting that they have taken control of their problems rather than letting problems control them.\n",
      "\n",
      "The text appears to be a collection of excerpts from speeches made by an individual, likely a government official or leader. Here is a summary:\n",
      "\n",
      "The speaker describes two instances of courage and resilience in the face of natural disasters:\n",
      "\n",
      "1. **Earthquake relief efforts**: The speaker visited a village affected by an earthquake and was impressed by the bravery and participation of children and villagers in relief operations, as well as the efforts of government authorities to provide relief to victims.\n",
      "2. **Tsunami aftermath**: The speaker visited the Car Nicobar Islands after a tsunami and was touched by the resilience and sense of community among the tribal islanders, who had taken in affected victims as their own children. The speaker composed a poem, \"Sea Waves,\" which was sung with enthusiasm by the islanders.\n",
      "\n",
      "The speaker highlights the importance of courage, community, and resilience in the face of adversity. The text also mentions a separate speech made to the Pan African Parliament, but the details of that speech are not provided.\n",
      "\n",
      "Here is a summary of the text:\n",
      "\n",
      "The speaker recounts two experiences:\n",
      "\n",
      "1. **Tsunami Relief Efforts**: After the 2004 tsunami, the speaker composed a poem called \"Sea Waves\" to inspire the tribal islanders of Car-Nicobar Islands, who had taken in affected victims as their own children. The poem was sung by the villagers, showing their courage and enthusiasm despite severe suffering.\n",
      "2. **Connectivity for Societal Transformation**: The speaker addressed the Pan African Parliament in 2004, proposing a concept for a Pan African e-Network to connect 53 African countries through satellite, fiber optics, and wireless networks. The project aims to connect universities, hospitals, and tele-medicine and tele-education centers between India and Africa, with a pilot project already underway in Ethiopia.\n",
      "\n",
      "The text appears to be a speech by an Indian President ( likely Dr. A.P.J. Abdul Kalam). Here is a summary:\n",
      "\n",
      "The President highlights three main points:\n",
      "\n",
      "1. **India's contribution to Africa**: India has been providing tele-consultation services to doctors in Ethiopia in cardiology and radiology since 2006, using the Pan-African network to connect with all 53 African countries. He feels proud that Indian technology is helping to bring about societal transformation in Africa.\n",
      "2. **Defending the nation**: The President expresses pride in India's defense forces, who work tirelessly to protect the nation in adverse conditions. He has had the opportunity to interact with soldiers, sailors, and air warriors, and appreciates their valor, commitment, and devotion to duty.\n",
      "3. **Youth movement for a developed India**: The President mentions a meeting with a group of citizens in Hyderabad who are working to transform India's youth into enlightened citizens through the Lead India 2020 Foundation, with the goal of building a developed India by 2020.\n",
      "\n",
      "The speaker:\n",
      "\n",
      "* Praised the Indian Defence Forces for their valour, commitment, and devotion to duty, highlighting their crucial role in protecting the nation.\n",
      "* Also acknowledged the contributions of para-military forces, central and state police personnel in maintaining safety and security.\n",
      "* Shared his experience with the Lead India 2020 Foundation, which aims to transform youth into enlightened citizens through training and education.\n",
      "* Cited a success story of a student leader, Ms. Padma, who inspired her father to quit smoking after participating in the Lead India training program.\n",
      "* Expressed optimism about the potential of India's youth, with 540 million young people below 25, to drive positive change and development in the country.\n",
      "\n",
      "The speaker discussed the positive impact of a training program, Lead India, on students in Andhra Pradesh, particularly in Medak district. The program has led to improvements in self-discipline, relationships with parents and teachers, and a sense of duty towards the nation. A student leader, Ms. Padma, shared her experience of helping her father quit smoking after attending the program. The speaker emphasized the importance of empowering India's 540 million youth under 25 through value-based education and leadership, considering them a powerful resource for the country's future. The speaker concluded by highlighting India's cultural diversity and unity, and the richness of its traditions.\n",
      "\n",
      "The speaker emphasizes the importance of preserving India's cultural heritage while pursuing economic growth. They express confidence that India can become a developed nation by 2020, driven by its natural resources, hardworking people, and large youth population. The speaker outlines a vision for a developed India in 2020, with the following goals:\n",
      "\n",
      "* Reducing the rural-urban divide\n",
      "* Ensuring equitable access to energy and quality water\n",
      "* Fostering harmony between agriculture, industry, and services\n",
      "* Providing value-based education to all meritorious students\n",
      "* Becoming a hub for talented scholars, scientists, and investors.\n",
      "\n",
      "The speaker encourages citizens, particularly the youth, to strive for greatness and work towards achieving these goals, citing a poem that suggests that with determination, anything is possible.\n",
      "\n",
      "The speaker emphasizes the importance of aiming high and working towards a vision of a developed India by 2020. They outline 9 key goals for a future India, which include:\n",
      "\n",
      "1. Reducing rural-urban divide\n",
      "2. Ensuring equitable access to energy and water\n",
      "3. Harmonious growth of agriculture, industry, and services\n",
      "4. Universal access to quality education\n",
      "5. Attracting top talent in education, science, and investment\n",
      "6. Universal access to quality healthcare\n",
      "7. Responsive, transparent, and corruption-free governance\n",
      "8. Eradication of poverty, illiteracy, and crimes against women and children\n",
      "9. A prosperous, healthy, secure, peaceful, and happy society with sustainable growth.\n",
      "\n",
      "The speaker urges citizens to work towards realizing this vision of a developed India.\n",
      "\n",
      "Here is a summary of the text:\n",
      "\n",
      "The speaker, Dr. A.P.J. Abdul Kalam, concludes his address by:\n",
      "\n",
      "* Expressing gratitude to the citizens for their support over the past 5 years\n",
      "* Sharing his mission to unite the people of India and foster self-confidence\n",
      "* Reiterating his commitment to making India a developed nation by 2020\n",
      "* Ending with a blessing and a patriotic slogan \"Jai Hind\".\n",
      "\u001b[0m\n",
      "\n",
      "\u001b[1m> Finished chain.\u001b[0m\n",
      "\n",
      "\u001b[1m> Finished chain.\u001b[0m\n"
     ]
    },
    {
     "data": {
      "text/plain": [
       "'**MOTIVATING INDIA TO REACH NEW HEIGHTS: A VISION FOR A DEVELOPED NATION**\\n\\n**Introduction**\\n\\nThe speech by former President of India, A.P.J. Abdul Kalam, emphasizes the importance of working together to achieve a vision of a developed India by 2020. The speaker shares his experiences, anecdotes, and insights on various themes, including national development, youth empowerment, and progress.\\n\\n**Summary**\\n\\nHere are the key points from the speech:\\n\\n1. **Accelerating development**: The speaker stresses the need to accelerate development to meet the aspirations of India\\'s youth, with a goal of becoming a developed nation by 2020.\\n2. **Empowering villages**: The speaker emphasizes the importance of empowering villages, citing the example of a village in Nagaland and the Periyar Maniammai College of Technology\\'s initiative to provide urban amenities in rural areas (PURA).\\n3. **Agricultural growth**: The speaker highlights the need to focus on agriculture growth, citing the potential for increasing agricultural GDP growth by at least 4% per annum through partnerships between farmers, scientists, and industries.\\n4. **Overcoming challenges**: The speaker shares inspiring stories of individuals who have overcome physical challenges and natural disasters, demonstrating the importance of determination and partnership.\\n5. **Improving connectivity**: The speaker emphasizes the need for better physical, electronic, and knowledge connectivity to drive development and competitiveness.\\n6. **Defending the nation**: The speaker expresses pride in India\\'s defense forces and their role in protecting the nation.\\n7. **Youth empowerment**: The speaker encourages a youth movement for a developed India by 2020, citing the potential of India\\'s 540 million young people to drive positive change and development.\\n8. **Cultural heritage**: The speaker emphasizes the importance of preserving India\\'s cultural heritage while pursuing economic growth.\\n9. **Vision for 2020**: The speaker outlines a vision for a developed India in 2020, with goals such as reducing the rural-urban divide, ensuring equitable access to energy and water, and fostering harmony between agriculture, industry, and services.\\n10. **Call to action**: The speaker urges citizens, particularly the youth, to strive for greatness and work towards achieving these goals, with a final message of \"Jai Hind\".'"
      ]
     },
     "execution_count": 46,
     "metadata": {},
     "output_type": "execute_result"
    }
   ],
   "source": [
    "summary_chain = load_summarize_chain(\n",
    "llm = llm,\n",
    "chain_type = \"map_reduce\",\n",
    "map_prompt = map_prompt_template,\n",
    "combine_prompt = Final_prompt,\n",
    "verbose = True\n",
    ")\n",
    "\n",
    "output = summary_chain.run(final_documents)\n",
    "output"
   ]
  },
  {
   "cell_type": "code",
   "execution_count": null,
   "id": "ca9ac04b",
   "metadata": {},
   "outputs": [],
   "source": []
  },
  {
   "cell_type": "code",
   "execution_count": null,
   "id": "a2c103b9",
   "metadata": {},
   "outputs": [],
   "source": []
  },
  {
   "cell_type": "code",
   "execution_count": null,
   "id": "186c9299",
   "metadata": {},
   "outputs": [],
   "source": []
  },
  {
   "cell_type": "code",
   "execution_count": null,
   "id": "87f33a95",
   "metadata": {},
   "outputs": [],
   "source": []
  },
  {
   "cell_type": "code",
   "execution_count": null,
   "id": "706d96fa",
   "metadata": {},
   "outputs": [],
   "source": []
  },
  {
   "cell_type": "code",
   "execution_count": null,
   "id": "9db30ab2",
   "metadata": {},
   "outputs": [],
   "source": []
  },
  {
   "cell_type": "code",
   "execution_count": null,
   "id": "f9aeca56",
   "metadata": {},
   "outputs": [],
   "source": []
  },
  {
   "cell_type": "code",
   "execution_count": null,
   "id": "2ef1e69e",
   "metadata": {},
   "outputs": [],
   "source": []
  },
  {
   "cell_type": "code",
   "execution_count": null,
   "id": "27083798",
   "metadata": {},
   "outputs": [],
   "source": []
  }
 ],
 "metadata": {
  "kernelspec": {
   "display_name": "Python 3",
   "language": "python",
   "name": "python3"
  },
  "language_info": {
   "codemirror_mode": {
    "name": "ipython",
    "version": 3
   },
   "file_extension": ".py",
   "mimetype": "text/x-python",
   "name": "python",
   "nbconvert_exporter": "python",
   "pygments_lexer": "ipython3",
   "version": "3.11.0"
  }
 },
 "nbformat": 4,
 "nbformat_minor": 5
}
